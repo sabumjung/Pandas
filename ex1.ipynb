{
  "nbformat": 4,
  "nbformat_minor": 0,
  "metadata": {
    "colab": {
      "name": "Untitled37.ipynb",
      "version": "0.3.2",
      "provenance": [],
      "collapsed_sections": [],
      "include_colab_link": true
    },
    "kernelspec": {
      "name": "python3",
      "display_name": "Python 3"
    }
  },
  "cells": [
    {
      "cell_type": "markdown",
      "metadata": {
        "id": "view-in-github",
        "colab_type": "text"
      },
      "source": [
        "<a href=\"https://colab.research.google.com/github/sabumjung/Pandas/blob/master/ex1.ipynb\" target=\"_parent\"><img src=\"https://colab.research.google.com/assets/colab-badge.svg\" alt=\"Open In Colab\"/></a>"
      ]
    },
    {
      "cell_type": "code",
      "metadata": {
        "id": "_w13BlZNDkhz",
        "colab_type": "code",
        "outputId": "9e401217-9bec-49f7-c07b-3acce74ebf74",
        "colab": {
          "resources": {
            "http://localhost:8080/nbextensions/google.colab/files.js": {
              "data": "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",
              "ok": true,
              "headers": [
                [
                  "content-type",
                  "application/javascript"
                ]
              ],
              "status": 200,
              "status_text": ""
            }
          },
          "base_uri": "https://localhost:8080/",
          "height": 94
        }
      },
      "source": [
        "from google.colab import files\n",
        "uploaded=files.upload()  #파일업로드기능 실행\n",
        "\n",
        "for fn in uploaded.keys():\n",
        "\tprint('User uploaded file \"{name}\"\" with length {length} bytes'.format(\n",
        "\t\tname=fn, length=len(uploaded[fn])))"
      ],
      "execution_count": 0,
      "outputs": [
        {
          "output_type": "display_data",
          "data": {
            "text/html": [
              "\n",
              "     <input type=\"file\" id=\"files-28174ef9-8b34-4ae0-8627-09c1c620ea6b\" name=\"files[]\" multiple disabled />\n",
              "     <output id=\"result-28174ef9-8b34-4ae0-8627-09c1c620ea6b\">\n",
              "      Upload widget is only available when the cell has been executed in the\n",
              "      current browser session. Please rerun this cell to enable.\n",
              "      </output>\n",
              "      <script src=\"/nbextensions/google.colab/files.js\"></script> "
            ],
            "text/plain": [
              "<IPython.core.display.HTML object>"
            ]
          },
          "metadata": {
            "tags": []
          }
        },
        {
          "output_type": "stream",
          "text": [
            "Saving Candidate_tech_evaluation_candidate_copy_data science_fraud.csv to Candidate_tech_evaluation_candidate_copy_data science_fraud.csv\n",
            "User uploaded file \"Candidate_tech_evaluation_candidate_copy_data science_fraud.csv\"\" with length 10866759 bytes\n"
          ],
          "name": "stdout"
        }
      ]
    },
    {
      "cell_type": "code",
      "metadata": {
        "id": "UNY2URzxDrfw",
        "colab_type": "code",
        "outputId": "43d4a0b4-f04e-4103-bc4c-467077457d3c",
        "colab": {
          "base_uri": "https://localhost:8080/",
          "height": 247
        }
      },
      "source": [
        "import pandas as pd\n",
        "import io\n",
        "\n",
        "df=pd.read_csv(io.StringIO(uploaded['Candidate_tech_evaluation_candidate_copy_data science_fraud.csv'].decode('utf-8')))\n",
        "print(df.head())"
      ],
      "execution_count": 0,
      "outputs": [
        {
          "output_type": "stream",
          "text": [
            "   Unnamed: 0  user_id      signup_time    purchase_time  purchase_value  \\\n",
            "0      149671   285108   7/15/2015 4:36  9/10/2015 14:17              31   \n",
            "1       15611   131009  1/24/2015 12:29   4/13/2015 4:53              31   \n",
            "2       73178   328855   3/11/2015 0:54   4/5/2015 12:23              16   \n",
            "3       84546   229053   1/7/2015 13:19   1/9/2015 10:12              29   \n",
            "4       35978   108439   2/8/2015 21:11   4/9/2015 14:26              26   \n",
            "\n",
            "       device_id  source  browser sex  age    ip_address  class  \n",
            "0  HZAKVUFTDOSFD  Direct   Chrome   M   49  2.818400e+09      0  \n",
            "1  XGQAJSOUJIZCC     SEO       IE   F   21  3.251268e+09      0  \n",
            "2  VCCTAYDCWKZIY  Direct       IE   M   26  2.727760e+09      0  \n",
            "3  MFFIHYNXCJLEY     SEO   Chrome   M   34  2.083420e+09      0  \n",
            "4  WMSXWGVPNIFBM     Ads  FireFox   M   33  3.207913e+09      0  \n"
          ],
          "name": "stdout"
        }
      ]
    },
    {
      "cell_type": "code",
      "metadata": {
        "id": "JPTT-uzhFLDD",
        "colab_type": "code",
        "outputId": "7fcae8a0-07a6-49a7-d6bf-5b91a2d19c7d",
        "colab": {
          "base_uri": "https://localhost:8080/",
          "height": 87
        }
      },
      "source": [
        "df.columns"
      ],
      "execution_count": 0,
      "outputs": [
        {
          "output_type": "execute_result",
          "data": {
            "text/plain": [
              "Index(['Unnamed: 0', 'user_id', 'signup_time', 'purchase_time',\n",
              "       'purchase_value', 'device_id', 'source', 'browser', 'sex', 'age',\n",
              "       'ip_address', 'class'],\n",
              "      dtype='object')"
            ]
          },
          "metadata": {
            "tags": []
          },
          "execution_count": 41
        }
      ]
    },
    {
      "cell_type": "code",
      "metadata": {
        "id": "ZFT5De-9MQDg",
        "colab_type": "code",
        "outputId": "63c1494c-1922-4f84-f6d6-efe6570442b3",
        "colab": {
          "base_uri": "https://localhost:8080/",
          "height": 247
        }
      },
      "source": [
        "df.dtypes"
      ],
      "execution_count": 0,
      "outputs": [
        {
          "output_type": "execute_result",
          "data": {
            "text/plain": [
              "Unnamed: 0          int64\n",
              "user_id             int64\n",
              "signup_time        object\n",
              "purchase_time      object\n",
              "purchase_value      int64\n",
              "device_id          object\n",
              "source             object\n",
              "browser            object\n",
              "sex                object\n",
              "age                 int64\n",
              "ip_address        float64\n",
              "class               int64\n",
              "dtype: object"
            ]
          },
          "metadata": {
            "tags": []
          },
          "execution_count": 42
        }
      ]
    },
    {
      "cell_type": "code",
      "metadata": {
        "id": "njntRW-fMbE7",
        "colab_type": "code",
        "outputId": "77c76e03-7d71-426e-a940-62cbbef47431",
        "colab": {
          "base_uri": "https://localhost:8080/",
          "height": 247
        }
      },
      "source": [
        "df['user_id']=df['user_id'].astype('object');\n",
        "df.dtypes"
      ],
      "execution_count": 0,
      "outputs": [
        {
          "output_type": "execute_result",
          "data": {
            "text/plain": [
              "Unnamed: 0          int64\n",
              "user_id            object\n",
              "signup_time        object\n",
              "purchase_time      object\n",
              "purchase_value      int64\n",
              "device_id          object\n",
              "source             object\n",
              "browser            object\n",
              "sex                object\n",
              "age                 int64\n",
              "ip_address        float64\n",
              "class               int64\n",
              "dtype: object"
            ]
          },
          "metadata": {
            "tags": []
          },
          "execution_count": 44
        }
      ]
    },
    {
      "cell_type": "code",
      "metadata": {
        "id": "J0TArd0AJGvy",
        "colab_type": "code",
        "outputId": "c0ef936e-93ff-456b-856e-12b11cb5cb76",
        "colab": {
          "base_uri": "https://localhost:8080/",
          "height": 1118
        }
      },
      "source": [
        "df.device_id.value_counts()"
      ],
      "execution_count": 0,
      "outputs": [
        {
          "output_type": "execute_result",
          "data": {
            "text/plain": [
              "ITUMJCKWEYNDD    19\n",
              "ZUSVMDEZRBDTX    17\n",
              "EQYVNEGOFLAWK    17\n",
              "KIPFSCNUGOLDP    17\n",
              "CDFXVYHOIHPYP    16\n",
              "SUEKLSZWLASFR    16\n",
              "IGKYVZDBEGALB    16\n",
              "SDJQRPKXQFBED    16\n",
              "UFBULQADXSSOG    16\n",
              "IXNWEKWJGNLNH    16\n",
              "NGQCKIADMZORL    15\n",
              "KPAAACGRQWYIK    15\n",
              "NKIHDDUCTWEVS    15\n",
              "UOMHJMHDVTLAS    15\n",
              "FHNLMUKPGJGPZ    15\n",
              "HGVNRPOHIBZLJ    15\n",
              "QRDCVZTJHNRKM    15\n",
              "EGLGSEGYPMMAM    14\n",
              "PPCQNVONMGSBH    14\n",
              "OYGQAVBHVOYUB    14\n",
              "HCYSLYNRFLAXU    14\n",
              "KYVPIVGZBEXNK    14\n",
              "FFWAQIABHGYJC    14\n",
              "SYKKJQDYLNIYY    14\n",
              "XWRXEZURUYHBE    14\n",
              "UVTZMEISTUFPY    14\n",
              "CJWVPNPXURMXB    14\n",
              "AJRBQAYMNWFZN    14\n",
              "WRPRGXNQHQWUW    14\n",
              "CNSQRJUQLEPMG    14\n",
              "                 ..\n",
              "SAOVGOQMZGAPE     1\n",
              "ACXGPREZEDKYQ     1\n",
              "EBQTXYIFUEPFT     1\n",
              "CNIAHWUDSLTIA     1\n",
              "LMZQRQHWOBSQT     1\n",
              "JCWYKTBXEDYVF     1\n",
              "XGBACJGCOYPJW     1\n",
              "QAEYSLJXCNACP     1\n",
              "JLBXJCRJYGEMI     1\n",
              "IAHZPQUPGCSAN     1\n",
              "KMPTLKXVZYWYZ     1\n",
              "XMQGTJGSOQDZA     1\n",
              "IUZVRXZIJIRWZ     1\n",
              "OGDOMNRXCIYQW     1\n",
              "MTMKRAOSGANRI     1\n",
              "CVRAZZIVLEAYI     1\n",
              "BWJCTCGNLRCQQ     1\n",
              "IRFVWMWXBAVBX     1\n",
              "SODEYJWCVHIER     1\n",
              "OYSGKRODQGFWN     1\n",
              "UUCPPVTIQWJGG     1\n",
              "CUDXPNMBTOTXW     1\n",
              "EPJMPNTQZLNPY     1\n",
              "OLOBHHIFMKCSJ     1\n",
              "KYPEIDEPTIXYQ     1\n",
              "ZMZIZJPZIKOKN     1\n",
              "IWYGCZJIEEQNJ     1\n",
              "OFWTVWVBFQFRG     1\n",
              "RRSSTLPDEBCQT     1\n",
              "FNURNBOVFIQAK     1\n",
              "Name: device_id, Length: 110599, dtype: int64"
            ]
          },
          "metadata": {
            "tags": []
          },
          "execution_count": 24
        }
      ]
    },
    {
      "cell_type": "code",
      "metadata": {
        "id": "6gPWAaiOI946",
        "colab_type": "code",
        "outputId": "0d90806b-fe06-4221-b448-a067b4b0df49",
        "colab": {
          "base_uri": "https://localhost:8080/",
          "height": 1118
        }
      },
      "source": [
        "df.purchase_time.value_counts()"
      ],
      "execution_count": 0,
      "outputs": [
        {
          "output_type": "execute_result",
          "data": {
            "text/plain": [
              "1/6/2015 12:53      20\n",
              "1/6/2015 12:10      19\n",
              "1/10/2015 23:23     18\n",
              "1/3/2015 10:47      16\n",
              "1/6/2015 6:33       16\n",
              "1/2/2015 19:44      15\n",
              "1/10/2015 6:32      15\n",
              "1/9/2015 23:37      14\n",
              "1/7/2015 9:35       14\n",
              "1/8/2015 8:45       14\n",
              "1/2/2015 9:10       14\n",
              "1/3/2015 13:10      14\n",
              "1/1/2015 11:32      14\n",
              "1/4/2015 5:19       14\n",
              "1/7/2015 15:55      14\n",
              "1/8/2015 12:42      14\n",
              "1/9/2015 0:58       14\n",
              "1/6/2015 10:36      13\n",
              "1/1/2015 18:49      13\n",
              "1/9/2015 4:26       13\n",
              "1/8/2015 17:08      13\n",
              "1/1/2015 9:01       13\n",
              "1/8/2015 17:36      13\n",
              "1/6/2015 16:33      13\n",
              "1/2/2015 0:59       13\n",
              "1/8/2015 6:28       13\n",
              "1/10/2015 14:43     13\n",
              "1/10/2015 5:50      13\n",
              "1/10/2015 21:04     13\n",
              "1/12/2015 19:08     13\n",
              "                    ..\n",
              "6/28/2015 15:04      1\n",
              "8/9/2015 14:53       1\n",
              "6/8/2015 8:09        1\n",
              "6/14/2015 10:10      1\n",
              "3/8/2015 13:44       1\n",
              "5/10/2015 17:49      1\n",
              "10/8/2015 23:52      1\n",
              "4/22/2015 4:02       1\n",
              "8/13/2015 14:37      1\n",
              "6/13/2015 6:27       1\n",
              "9/4/2015 9:25        1\n",
              "9/6/2015 23:13       1\n",
              "7/3/2015 18:26       1\n",
              "5/22/2015 23:25      1\n",
              "6/17/2015 2:21       1\n",
              "5/14/2015 12:10      1\n",
              "8/7/2015 16:53       1\n",
              "1/19/2015 8:47       1\n",
              "5/23/2015 18:52      1\n",
              "5/11/2015 0:58       1\n",
              "11/1/2015 21:37      1\n",
              "4/30/2015 14:54      1\n",
              "5/18/2015 3:47       1\n",
              "7/12/2015 5:58       1\n",
              "5/30/2015 13:22      1\n",
              "9/4/2015 10:54       1\n",
              "8/16/2015 13:23      1\n",
              "8/12/2015 8:45       1\n",
              "4/9/2015 6:26        1\n",
              "10/15/2015 12:18     1\n",
              "Name: purchase_time, Length: 100058, dtype: int64"
            ]
          },
          "metadata": {
            "tags": []
          },
          "execution_count": 23
        }
      ]
    },
    {
      "cell_type": "code",
      "metadata": {
        "id": "h4RpFhVbI4t3",
        "colab_type": "code",
        "outputId": "fb1fce91-c13d-49de-fe7a-e6832b387cee",
        "colab": {
          "base_uri": "https://localhost:8080/",
          "height": 1118
        }
      },
      "source": [
        "df.signup_time.value_counts()"
      ],
      "execution_count": 0,
      "outputs": [
        {
          "output_type": "execute_result",
          "data": {
            "text/plain": [
              "1/6/2015 12:10     21\n",
              "1/6/2015 12:53     20\n",
              "1/10/2015 23:23    19\n",
              "1/6/2015 6:33      17\n",
              "1/3/2015 10:47     17\n",
              "1/10/2015 6:32     16\n",
              "1/2/2015 19:44     16\n",
              "1/2/2015 9:10      15\n",
              "1/3/2015 13:10     15\n",
              "1/12/2015 19:08    15\n",
              "1/7/2015 9:35      15\n",
              "1/4/2015 5:19      15\n",
              "1/2/2015 8:14      15\n",
              "1/1/2015 11:32     15\n",
              "1/6/2015 16:33     15\n",
              "1/8/2015 8:45      15\n",
              "1/9/2015 0:58      15\n",
              "1/7/2015 15:55     15\n",
              "1/8/2015 17:36     14\n",
              "1/1/2015 18:49     14\n",
              "1/10/2015 9:32     14\n",
              "1/4/2015 6:43      14\n",
              "1/4/2015 8:05      14\n",
              "1/10/2015 14:43    14\n",
              "1/8/2015 17:08     14\n",
              "1/8/2015 13:57     14\n",
              "1/2/2015 0:59      14\n",
              "1/5/2015 13:45     14\n",
              "1/9/2015 4:26      14\n",
              "1/9/2015 23:37     14\n",
              "                   ..\n",
              "1/10/2015 23:17     1\n",
              "6/29/2015 22:18     1\n",
              "7/29/2015 13:21     1\n",
              "4/30/2015 19:46     1\n",
              "6/22/2015 4:52      1\n",
              "1/12/2015 12:44     1\n",
              "1/31/2015 23:42     1\n",
              "3/10/2015 19:59     1\n",
              "1/31/2015 6:52      1\n",
              "3/21/2015 4:28      1\n",
              "1/12/2015 11:41     1\n",
              "1/8/2015 12:16      1\n",
              "6/2/2015 1:43       1\n",
              "1/25/2015 5:45      1\n",
              "8/11/2015 19:02     1\n",
              "6/20/2015 7:53      1\n",
              "1/22/2015 5:08      1\n",
              "6/29/2015 6:18      1\n",
              "5/4/2015 10:59      1\n",
              "3/24/2015 21:53     1\n",
              "7/17/2015 19:35     1\n",
              "1/26/2015 2:03      1\n",
              "4/6/2015 4:14       1\n",
              "2/12/2015 21:09     1\n",
              "7/8/2015 13:49      1\n",
              "6/13/2015 16:55     1\n",
              "5/7/2015 19:07      1\n",
              "4/29/2015 22:55     1\n",
              "2/3/2015 17:13      1\n",
              "6/2/2015 2:32       1\n",
              "Name: signup_time, Length: 109111, dtype: int64"
            ]
          },
          "metadata": {
            "tags": []
          },
          "execution_count": 22
        }
      ]
    },
    {
      "cell_type": "code",
      "metadata": {
        "id": "d5aOmZ2aIndX",
        "colab_type": "code",
        "outputId": "1d493c74-cb4a-4a8a-b577-26c5530b6489",
        "colab": {
          "base_uri": "https://localhost:8080/",
          "height": 1118
        }
      },
      "source": [
        "df.user_id.value_counts()"
      ],
      "execution_count": 0,
      "outputs": [
        {
          "output_type": "execute_result",
          "data": {
            "text/plain": [
              "264191    1\n",
              "104344    1\n",
              "333704    1\n",
              "335753    1\n",
              "329610    1\n",
              "331659    1\n",
              "79756     1\n",
              "343949    1\n",
              "382864    1\n",
              "122769    1\n",
              "378770    1\n",
              "118675    1\n",
              "124822    1\n",
              "126871    1\n",
              "388990    1\n",
              "321462    1\n",
              "370590    1\n",
              "372639    1\n",
              "372330    1\n",
              "26534     1\n",
              "290727    1\n",
              "4011      1\n",
              "14252     1\n",
              "10158     1\n",
              "12207     1\n",
              "319409    1\n",
              "51122     1\n",
              "325556    1\n",
              "94087     1\n",
              "92038     1\n",
              "         ..\n",
              "64074     1\n",
              "39494     1\n",
              "328181    1\n",
              "307779    1\n",
              "94715     1\n",
              "84476     1\n",
              "86527     1\n",
              "174592    1\n",
              "166404    1\n",
              "293931    1\n",
              "139793    1\n",
              "137750    1\n",
              "160283    1\n",
              "147997    1\n",
              "265561    1\n",
              "342693    1\n",
              "242211    1\n",
              "231972    1\n",
              "229925    1\n",
              "236070    1\n",
              "260650    1\n",
              "248364    1\n",
              "197173    1\n",
              "223800    1\n",
              "225851    1\n",
              "213565    1\n",
              "219710    1\n",
              "41537     1\n",
              "309826    1\n",
              "2049      1\n",
              "Name: user_id, Length: 120000, dtype: int64"
            ]
          },
          "metadata": {
            "tags": []
          },
          "execution_count": 21
        }
      ]
    },
    {
      "cell_type": "code",
      "metadata": {
        "id": "v_0vov6TF-4w",
        "colab_type": "code",
        "outputId": "89c0c495-c4da-4127-8dc7-0f5cb5ec0aba",
        "colab": {
          "base_uri": "https://localhost:8080/",
          "height": 70
        }
      },
      "source": [
        "df.sex.value_counts() "
      ],
      "execution_count": 0,
      "outputs": [
        {
          "output_type": "execute_result",
          "data": {
            "text/plain": [
              "M    70126\n",
              "F    49874\n",
              "Name: sex, dtype: int64"
            ]
          },
          "metadata": {
            "tags": []
          },
          "execution_count": 15
        }
      ]
    },
    {
      "cell_type": "code",
      "metadata": {
        "id": "ngKstSk5GmC-",
        "colab_type": "code",
        "outputId": "593e271a-ad08-418b-df8f-3ff2f2f4cb27",
        "colab": {
          "base_uri": "https://localhost:8080/",
          "height": 1047
        }
      },
      "source": [
        "df.age.value_counts()"
      ],
      "execution_count": 0,
      "outputs": [
        {
          "output_type": "execute_result",
          "data": {
            "text/plain": [
              "32    5340\n",
              "31    5228\n",
              "33    5193\n",
              "30    5074\n",
              "29    5021\n",
              "34    5006\n",
              "28    5002\n",
              "35    4952\n",
              "36    4824\n",
              "27    4693\n",
              "37    4503\n",
              "26    4460\n",
              "38    4169\n",
              "25    4143\n",
              "39    3957\n",
              "24    3935\n",
              "40    3634\n",
              "23    3599\n",
              "41    3329\n",
              "22    3251\n",
              "42    3025\n",
              "21    2989\n",
              "43    2686\n",
              "20    2666\n",
              "44    2315\n",
              "19    2310\n",
              "18    2202\n",
              "45    2079\n",
              "46    1674\n",
              "47    1584\n",
              "48    1393\n",
              "49    1079\n",
              "50     927\n",
              "51     720\n",
              "52     662\n",
              "53     521\n",
              "54     460\n",
              "55     329\n",
              "56     256\n",
              "57     188\n",
              "58     176\n",
              "59     121\n",
              "60      83\n",
              "61      71\n",
              "63      51\n",
              "62      50\n",
              "64      24\n",
              "65      17\n",
              "66       9\n",
              "68       5\n",
              "67       5\n",
              "69       4\n",
              "72       2\n",
              "76       1\n",
              "73       1\n",
              "71       1\n",
              "70       1\n",
              "Name: age, dtype: int64"
            ]
          },
          "metadata": {
            "tags": []
          },
          "execution_count": 16
        }
      ]
    },
    {
      "cell_type": "code",
      "metadata": {
        "id": "CiG_8RL8H1jV",
        "colab_type": "code",
        "outputId": "2ea1ddf3-d94c-43c3-d41b-7125a7eb3464",
        "colab": {
          "base_uri": "https://localhost:8080/",
          "height": 123
        }
      },
      "source": [
        "df.browser.value_counts()"
      ],
      "execution_count": 0,
      "outputs": [
        {
          "output_type": "execute_result",
          "data": {
            "text/plain": [
              "Chrome     48652\n",
              "IE         29138\n",
              "Safari     19620\n",
              "FireFox    19615\n",
              "Opera       2975\n",
              "Name: browser, dtype: int64"
            ]
          },
          "metadata": {
            "tags": []
          },
          "execution_count": 18
        }
      ]
    },
    {
      "cell_type": "code",
      "metadata": {
        "id": "yfZQiNsSH-T8",
        "colab_type": "code",
        "outputId": "14660f6d-ffb7-423a-ff10-0f7d1436a7ea",
        "colab": {
          "base_uri": "https://localhost:8080/",
          "height": 87
        }
      },
      "source": [
        "df.source.value_counts()"
      ],
      "execution_count": 0,
      "outputs": [
        {
          "output_type": "execute_result",
          "data": {
            "text/plain": [
              "SEO       48297\n",
              "Ads       47461\n",
              "Direct    24242\n",
              "Name: source, dtype: int64"
            ]
          },
          "metadata": {
            "tags": []
          },
          "execution_count": 19
        }
      ]
    },
    {
      "cell_type": "code",
      "metadata": {
        "id": "hcX2jvAAJfNJ",
        "colab_type": "code",
        "outputId": "d8bee55f-129b-40b4-b803-de8a3f59d854",
        "colab": {
          "base_uri": "https://localhost:8080/",
          "height": 87
        }
      },
      "source": [
        "df.columns"
      ],
      "execution_count": 0,
      "outputs": [
        {
          "output_type": "execute_result",
          "data": {
            "text/plain": [
              "Index(['Unnamed: 0', 'user_id', 'signup_time', 'purchase_time',\n",
              "       'purchase_value', 'device_id', 'source', 'browser', 'sex', 'age',\n",
              "       'ip_address', 'class'],\n",
              "      dtype='object')"
            ]
          },
          "metadata": {
            "tags": []
          },
          "execution_count": 31
        }
      ]
    },
    {
      "cell_type": "code",
      "metadata": {
        "id": "rcZZoNvjJ9mW",
        "colab_type": "code",
        "outputId": "3357c61e-4214-479f-dd63-f98582f21271",
        "colab": {
          "base_uri": "https://localhost:8080/",
          "height": 425
        }
      },
      "source": [
        "df.boxplot(by='class')"
      ],
      "execution_count": 0,
      "outputs": [
        {
          "output_type": "execute_result",
          "data": {
            "text/plain": [
              "array([[<matplotlib.axes._subplots.AxesSubplot object at 0x7fdb05b93e48>,\n",
              "        <matplotlib.axes._subplots.AxesSubplot object at 0x7fdb05b137b8>],\n",
              "       [<matplotlib.axes._subplots.AxesSubplot object at 0x7fdb05abf780>,\n",
              "        <matplotlib.axes._subplots.AxesSubplot object at 0x7fdb05a65a58>],\n",
              "       [<matplotlib.axes._subplots.AxesSubplot object at 0x7fdb05a8cd30>,\n",
              "        <matplotlib.axes._subplots.AxesSubplot object at 0x7fdb05a3e048>]],\n",
              "      dtype=object)"
            ]
          },
          "metadata": {
            "tags": []
          },
          "execution_count": 32
        },
        {
          "output_type": "display_data",
          "data": {
            "image/png": "[encoded data removed]",
            "text/plain": [
              "<Figure size 432x288 with 6 Axes>"
            ]
          },
          "metadata": {
            "tags": []
          }
        }
      ]
    },
    {
      "cell_type": "code",
      "metadata": {
        "id": "v9iprjZFKC5W",
        "colab_type": "code",
        "colab": {
          "base_uri": "https://localhost:8080/",
          "height": 294
        },
        "outputId": "85ab13d6-3020-4e83-c7a5-8364f62c1bcc"
      },
      "source": [
        "df.boxplot()"
      ],
      "execution_count": 45,
      "outputs": [
        {
          "output_type": "execute_result",
          "data": {
            "text/plain": [
              "<matplotlib.axes._subplots.AxesSubplot at 0x7fdb04f9c160>"
            ]
          },
          "metadata": {
            "tags": []
          },
          "execution_count": 45
        },
        {
          "output_type": "display_data",
          "data": {
            "image/png": "[encoded data removed]",
            "text/plain": [
              "<Figure size 432x288 with 1 Axes>"
            ]
          },
          "metadata": {
            "tags": []
          }
        }
      ]
    },
    {
      "cell_type": "code",
      "metadata": {
        "id": "rBIeTE9HQC6I",
        "colab_type": "code",
        "colab": {
          "base_uri": "https://localhost:8080/",
          "height": 286
        },
        "outputId": "5d63327f-96dc-4dce-80ba-5a9e02d58a43"
      },
      "source": [
        "df['age'].hist()"
      ],
      "execution_count": 52,
      "outputs": [
        {
          "output_type": "execute_result",
          "data": {
            "text/plain": [
              "<matplotlib.axes._subplots.AxesSubplot at 0x7fdb00ada6d8>"
            ]
          },
          "metadata": {
            "tags": []
          },
          "execution_count": 52
        },
        {
          "output_type": "display_data",
          "data": {
            "image/png": "[encoded data removed]",
            "text/plain": [
              "<Figure size 432x288 with 1 Axes>"
            ]
          },
          "metadata": {
            "tags": []
          }
        }
      ]
    },
    {
      "cell_type": "code",
      "metadata": {
        "id": "cZXo95DBQbNV",
        "colab_type": "code",
        "colab": {
          "base_uri": "https://localhost:8080/",
          "height": 286
        },
        "outputId": "47a9ad1a-5c0e-45a6-8173-c1fb47f7e318"
      },
      "source": [
        "df['purchase_value'].hist()"
      ],
      "execution_count": 55,
      "outputs": [
        {
          "output_type": "execute_result",
          "data": {
            "text/plain": [
              "<matplotlib.axes._subplots.AxesSubplot at 0x7fdb009e23c8>"
            ]
          },
          "metadata": {
            "tags": []
          },
          "execution_count": 55
        },
        {
          "output_type": "display_data",
          "data": {
            "image/png": "[encoded data removed]",
            "text/plain": [
              "<Figure size 432x288 with 1 Axes>"
            ]
          },
          "metadata": {
            "tags": []
          }
        }
      ]
    },
    {
      "cell_type": "code",
      "metadata": {
        "id": "VCdrlf3VQHFt",
        "colab_type": "code",
        "colab": {
          "base_uri": "https://localhost:8080/",
          "height": 300
        },
        "outputId": "7e175e6c-1f6f-47d1-d941-def66862598b"
      },
      "source": [
        "df['ip_address'].hist()"
      ],
      "execution_count": 53,
      "outputs": [
        {
          "output_type": "execute_result",
          "data": {
            "text/plain": [
              "<matplotlib.axes._subplots.AxesSubplot at 0x7fdb00a7fcf8>"
            ]
          },
          "metadata": {
            "tags": []
          },
          "execution_count": 53
        },
        {
          "output_type": "display_data",
          "data": {
            "image/png": "[encoded data removed]",
            "text/plain": [
              "<Figure size 432x288 with 1 Axes>"
            ]
          },
          "metadata": {
            "tags": []
          }
        }
      ]
    },
    {
      "cell_type": "code",
      "metadata": {
        "id": "Gtsa2wl_QlFZ",
        "colab_type": "code",
        "colab": {
          "base_uri": "https://localhost:8080/",
          "height": 286
        },
        "outputId": "bae2f44f-9185-436a-e15b-15eedfaf0c75"
      },
      "source": [
        "df['class'].hist()"
      ],
      "execution_count": 56,
      "outputs": [
        {
          "output_type": "execute_result",
          "data": {
            "text/plain": [
              "<matplotlib.axes._subplots.AxesSubplot at 0x7fdb009af4a8>"
            ]
          },
          "metadata": {
            "tags": []
          },
          "execution_count": 56
        },
        {
          "output_type": "display_data",
          "data": {
            "image/png": "[encoded data removed]",
            "text/plain": [
              "<Figure size 432x288 with 1 Axes>"
            ]
          },
          "metadata": {
            "tags": []
          }
        }
      ]
    },
    {
      "cell_type": "code",
      "metadata": {
        "id": "UwNqXtwPRATL",
        "colab_type": "code",
        "colab": {}
      },
      "source": [
        ""
      ],
      "execution_count": 0,
      "outputs": []
    }
  ]
}