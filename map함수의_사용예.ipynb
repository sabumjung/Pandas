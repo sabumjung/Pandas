{
  "nbformat": 4,
  "nbformat_minor": 0,
  "metadata": {
    "colab": {
      "name": "map함수의 사용예.ipynb",
      "provenance": [],
      "collapsed_sections": [],
      "include_colab_link": true
    },
    "kernelspec": {
      "name": "python3",
      "display_name": "Python 3"
    },
    "accelerator": "TPU"
  },
  "cells": [
    {
      "cell_type": "markdown",
      "metadata": {
        "id": "view-in-github",
        "colab_type": "text"
      },
      "source": [
        "<a href=\"https://colab.research.google.com/github/sabumjung/Pandas/blob/master/map%ED%95%A8%EC%88%98%EC%9D%98_%EC%82%AC%EC%9A%A9%EC%98%88.ipynb\" target=\"_parent\"><img src=\"https://colab.research.google.com/assets/colab-badge.svg\" alt=\"Open In Colab\"/></a>"
      ]
    },
    {
      "cell_type": "code",
      "metadata": {
        "id": "oF4Cigzpkeag",
        "colab_type": "code",
        "colab": {}
      },
      "source": [
        "import pandas as pd\n",
        "\n",
        "a=[['2019Z1281', 9, 0], ['2019Y9032', 0, 0],['2019Y9035', 0, 0],['2019Y9036', 0, 0],['2019Y9037', 0, 0],['2019Y9038', 0, 0],['2019Y9039', 0, 0],['2019Y9041', 0, 0],['2019Y9042', 0, 0]]\n",
        "b=[['2019Y9038', 2],['2019Y9039', 4]]\n",
        "a1=pd.DataFrame(a, columns=['code', 'v1', 'v2'])\n",
        "b1=pd.DataFrame(b, columns=['code', 'v1'])"
      ],
      "execution_count": 0,
      "outputs": []
    },
    {
      "cell_type": "code",
      "metadata": {
        "id": "S2r-Pe-wl2tv",
        "colab_type": "code",
        "outputId": "ee9f3522-29be-473c-d6bf-57eb811fce1b",
        "colab": {
          "base_uri": "https://localhost:8080/",
          "height": 238
        }
      },
      "source": [
        "print(a1)\n",
        "print(b1)"
      ],
      "execution_count": 0,
      "outputs": [
        {
          "output_type": "stream",
          "text": [
            "        code  v1  v2\n",
            "0  2019Z1281   9   0\n",
            "1  2019Y9032   0   0\n",
            "2  2019Y9035   0   0\n",
            "3  2019Y9036   0   0\n",
            "4  2019Y9037   0   0\n",
            "5  2019Y9038   0   0\n",
            "6  2019Y9039   0   0\n",
            "7  2019Y9041   0   0\n",
            "8  2019Y9042   0   0\n",
            "        code  v1\n",
            "0  2019Y9038   2\n",
            "1  2019Y9039   4\n"
          ],
          "name": "stdout"
        }
      ]
    },
    {
      "cell_type": "code",
      "metadata": {
        "id": "09OXrZ6Thd8w",
        "colab_type": "code",
        "outputId": "89dde807-daee-4dcf-c040-a305ea26a804",
        "colab": {
          "base_uri": "https://localhost:8080/",
          "height": 34
        }
      },
      "source": [
        "x11=a1['code'].tolist()\n",
        "x12=a1['v1'].tolist()\n",
        "def addition(x,y):\n",
        "  temp=x11.index(x)\n",
        "  x12[temp]=y\n",
        "  return(temp)\n",
        "\n",
        "ttt=map(lambda x,y:addition(x,y), b1['code'].tolist(), b1['v1'].tolist())\n",
        "print(list(ttt))"
      ],
      "execution_count": 0,
      "outputs": [
        {
          "output_type": "stream",
          "text": [
            "[5, 6]\n"
          ],
          "name": "stdout"
        }
      ]
    },
    {
      "cell_type": "code",
      "metadata": {
        "id": "m0jx_zzFvE2i",
        "colab_type": "code",
        "outputId": "247f0f81-a69c-4278-c8e9-59bf7b9def94",
        "colab": {
          "base_uri": "https://localhost:8080/",
          "height": 34
        }
      },
      "source": [
        "x12"
      ],
      "execution_count": 0,
      "outputs": [
        {
          "output_type": "execute_result",
          "data": {
            "text/plain": [
              "[9, 0, 0, 0, 0, 2, 4, 0, 0]"
            ]
          },
          "metadata": {
            "tags": []
          },
          "execution_count": 95
        }
      ]
    },
    {
      "cell_type": "code",
      "metadata": {
        "id": "uuQpCBA6xVl0",
        "colab_type": "code",
        "colab": {}
      },
      "source": [
        ""
      ],
      "execution_count": 0,
      "outputs": []
    }
  ]
}