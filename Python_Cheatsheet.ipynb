{
  "nbformat": 4,
  "nbformat_minor": 0,
  "metadata": {
    "colab": {
      "name": "Python Cheatsheet.ipynb",
      "provenance": [],
      "collapsed_sections": [],
      "authorship_tag": "ABX9TyOW1v58+6fMseLBFyx6zYrH",
      "include_colab_link": true
    },
    "kernelspec": {
      "name": "python3",
      "display_name": "Python 3"
    }
  },
  "cells": [
    {
      "cell_type": "markdown",
      "metadata": {
        "id": "view-in-github",
        "colab_type": "text"
      },
      "source": [
        "<a href=\"https://colab.research.google.com/github/sabumjung/Pandas/blob/master/Python_Cheatsheet.ipynb\" target=\"_parent\"><img src=\"https://colab.research.google.com/assets/colab-badge.svg\" alt=\"Open In Colab\"/></a>"
      ]
    },
    {
      "cell_type": "markdown",
      "metadata": {
        "id": "igR7okYqEPvF",
        "colab_type": "text"
      },
      "source": [
        "# Python 기초"
      ]
    },
    {
      "cell_type": "markdown",
      "metadata": {
        "id": "I2an5AM53sO0",
        "colab_type": "text"
      },
      "source": [
        "## Contents  \n",
        "1. <a href='#section1'>Syntax and whitespace</a>\n",
        "2. <a href='#section2'>Comments</a>\n",
        "3. <a href='#section3'>Numbers and operations</a>\n",
        "4. <a href='#section4'>String manipulation</a>\n",
        "5. <a href='#section5'>Lists, tuples, and dictionaries</a>\n",
        "6. <a href='#section6'>JSON</a>\n",
        "7. <a href='#section7'>Loops</a>\n",
        "8. <a href='#section8'>File handling</a>\n",
        "9. <a href='#section9'>Functions</a>\n",
        "10. <a href='#section10'>Working with datetime</a>\n",
        "11. <a href='#section11'>NumPy</a>\n",
        "12. <a href='#section12'>Pandas</a>\n",
        "11. <a href='#section11'>NumPy</a>\n",
        "12. <a href='#section12'>Pandas</a>"
      ]
    },
    {
      "cell_type": "markdown",
      "metadata": {
        "id": "QiaG_sKV4AYn",
        "colab_type": "text"
      },
      "source": [
        "<a id=\"section_1\"></a>  \n",
        "##1. 문법\n",
        "  - 파이썬 코드를 작성시에는 들여쓰기를 해야 한다.\n",
        "  - 아래 명령문에서 조건문 if와 else는 동급수준에 있지만 print는 인덴트를 적용하여 코드를 작성해야 한다."
      ]
    },
    {
      "cell_type": "code",
      "metadata": {
        "id": "fnCAWmUh3o6N",
        "colab_type": "code",
        "colab": {
          "base_uri": "https://localhost:8080/",
          "height": 53
        },
        "outputId": "63450b10-d45c-4aba-a69b-5fcaec47ea4e"
      },
      "source": [
        "student_number = input(\"Enter your student number:\")\n",
        "if student_number != 0:\n",
        "    print(\"Welcome student {}\".format(student_number))\n",
        "else:\n",
        "    print(\"Try again!\")"
      ],
      "execution_count": null,
      "outputs": [
        {
          "output_type": "stream",
          "text": [
            "Enter your student number:sabum\n",
            "Welcome student sabum\n"
          ],
          "name": "stdout"
        }
      ]
    },
    {
      "cell_type": "markdown",
      "metadata": {
        "id": "ZmmmxZLE5g-T",
        "colab_type": "text"
      },
      "source": [
        "<a id=\"section_2\"></a>  \n",
        "##2. 주석\n",
        "- 파이썬에서 주석은 #를 사용한 후 기입한다.  \n",
        "- 코드상에서는 해당 코드를 작성한 후 주석을 기입하기 전에 #를 사용한다."
      ]
    },
    {
      "cell_type": "code",
      "metadata": {
        "id": "A4eGEOdR5dE5",
        "colab_type": "code",
        "colab": {
          "base_uri": "https://localhost:8080/",
          "height": 53
        },
        "outputId": "36c51355-4134-4f5d-db88-0aeb9c7fe1d7"
      },
      "source": [
        "# This is code to print hello world!\n",
        "\n",
        "print(\"Hello world!\") # Print statement for hello world\n",
        "print(\"# is not a comment in this case\")"
      ],
      "execution_count": null,
      "outputs": [
        {
          "output_type": "stream",
          "text": [
            "Hello world!\n",
            "# is not a comment in this case\n"
          ],
          "name": "stdout"
        }
      ]
    },
    {
      "cell_type": "markdown",
      "metadata": {
        "id": "jN9Y9qzA55hf",
        "colab_type": "text"
      },
      "source": [
        "<a id=\"section_3\"></a>\n",
        "\n",
        "## 3. 숫자와 연산\n",
        "다른 프로그래밍언어와 마찬가지로 4가지 유형의 숫자 유형이 존재한다.\n",
        "- Integers : 1, 2, 45, 100 등이 있으며 int으로 표시한다.\n",
        "- Floating point numbers : 1.25, 20.35, 1000.00이 있으며 float으로 표시한다.\n",
        "- Long Integers\n",
        "- Complex numbers"
      ]
    },
    {
      "cell_type": "markdown",
      "metadata": {
        "id": "vABg1WBS6kII",
        "colab_type": "text"
      },
      "source": [
        "Operation\t| Result\n",
        "----------|-----------------------------  \n",
        "x + y\t    | Sum of x and y  \n",
        "x - y\t    | Difference of x and y  \n",
        "x * y\t    | Product of x and y  \n",
        "x / y\t    | Quotient of x and y  \n",
        "x // y\t  | Quotient of x and y (floored)  \n",
        "x % y\t    | Remainder of x / y  \n",
        "abs(x)\t  | Absolute value of x  \n",
        "int(x)\t  | x converted to integer  \n",
        "long(x)\t  | x converted to long integer  \n",
        "float(x)  | x converted to floating point  \n",
        "pow(x, y) | x to the power y  \n",
        "x ** y\t  | x to the power y  "
      ]
    },
    {
      "cell_type": "code",
      "metadata": {
        "id": "YPdc74Yw52s8",
        "colab_type": "code",
        "colab": {
          "base_uri": "https://localhost:8080/",
          "height": 53
        },
        "outputId": "864717a1-f56e-422b-b826-414810cf955c"
      },
      "source": [
        "# Number examples\n",
        "a = 5 + 8\n",
        "print(\"Sum of int numbers: {} and number format is {}\".format(a, type(a)))\n",
        "\n",
        "b = 5 + 2.3\n",
        "print (\"Sum of int and {} and number format is {}\".format(b, type(b)))"
      ],
      "execution_count": null,
      "outputs": [
        {
          "output_type": "stream",
          "text": [
            "Sum of int numbers: 13 and number format is <class 'int'>\n",
            "Sum of int and 7.3 and number format is <class 'float'>\n"
          ],
          "name": "stdout"
        }
      ]
    },
    {
      "cell_type": "markdown",
      "metadata": {
        "id": "mx2FVXZM7QRl",
        "colab_type": "text"
      },
      "source": [
        "## 4. 문자열 처리\n",
        "\n",
        "Python has rich features like other programming languages for string manipulation."
      ]
    },
    {
      "cell_type": "code",
      "metadata": {
        "id": "MtM5JTmY7OHl",
        "colab_type": "code",
        "colab": {
          "base_uri": "https://localhost:8080/",
          "height": 251
        },
        "outputId": "c9e8db0b-7ee4-4d46-d86b-d0c3af4e6245"
      },
      "source": [
        "# Store strings in a variable\n",
        "test_word = \"hello world to everyone\"\n",
        "\n",
        "# Print the test_word value\n",
        "print(test_word)\n",
        "\n",
        "# Use [] to access the character of the string. The first character is indicated by '0'.\n",
        "print(test_word[0])\n",
        "\n",
        "# Use the len() function to find the length of the string\n",
        "print(len(test_word))\n",
        "\n",
        "# Some examples of finding in strings\n",
        "print(test_word.count('l')) # Count number of times l repeats in the string\n",
        "print(test_word.find(\"o\")) # Find letter 'o' in the string. Returns the position of first match.\n",
        "print(test_word.count(' ')) # Count number of spaces in the string\n",
        "print(test_word.upper()) # Change the string to uppercase\n",
        "print(test_word.lower()) # Change the string to lowercase\n",
        "print(test_word.replace(\"everyone\",\"you\")) # Replace word \"everyone\" with \"you\"\n",
        "print(test_word.title()) # Change string to title format\n",
        "print(test_word + \"!!!\") # Concatenate strings\n",
        "print(\":\".join(test_word)) # Add \":\" between each character\n",
        "print(\"\".join(reversed(test_word))) # Reverse the string "
      ],
      "execution_count": null,
      "outputs": [
        {
          "output_type": "stream",
          "text": [
            "hello world to everyone\n",
            "h\n",
            "23\n",
            "3\n",
            "4\n",
            "3\n",
            "HELLO WORLD TO EVERYONE\n",
            "hello world to everyone\n",
            "hello world to you\n",
            "Hello World To Everyone\n",
            "hello world to everyone!!!\n",
            "h:e:l:l:o: :w:o:r:l:d: :t:o: :e:v:e:r:y:o:n:e\n",
            "enoyreve ot dlrow olleh\n"
          ],
          "name": "stdout"
        }
      ]
    },
    {
      "cell_type": "markdown",
      "metadata": {
        "id": "wP68iiMV7Y-U",
        "colab_type": "text"
      },
      "source": [
        "## 5. 리스트, 튜플, 딕셔너리\n",
        "\n",
        "Python supports data types lists, tuples, dictionaries, and arrays."
      ]
    },
    {
      "cell_type": "markdown",
      "metadata": {
        "id": "4C4FARRA7csP",
        "colab_type": "text"
      },
      "source": [
        "### 리스트(List)\n",
        "\n",
        "A list is created by placing all the items (elements) inside square brackets \\[ ] separated by commas. A list can have any number of items, and they may be of different types (integer, float, strings, etc.)."
      ]
    },
    {
      "cell_type": "code",
      "metadata": {
        "id": "SRjfAsAA7WHL",
        "colab_type": "code",
        "colab": {}
      },
      "source": [
        "# A Python list is similar to an array. You can create an empty list too.\n",
        "\n",
        "my_list = []\n",
        "\n",
        "first_list = [3, 5, 7, 10]\n",
        "second_list = [1, 'python', 3]"
      ],
      "execution_count": null,
      "outputs": []
    },
    {
      "cell_type": "code",
      "metadata": {
        "id": "N75nXR767ew8",
        "colab_type": "code",
        "colab": {
          "base_uri": "https://localhost:8080/",
          "height": 35
        },
        "outputId": "266651e5-e612-44f7-c819-f1741e189365"
      },
      "source": [
        "# Nest multiple lists\n",
        "nested_list = [first_list, second_list]\n",
        "nested_list"
      ],
      "execution_count": null,
      "outputs": [
        {
          "output_type": "execute_result",
          "data": {
            "text/plain": [
              "[[3, 5, 7, 10], [1, 'python', 3]]"
            ]
          },
          "metadata": {
            "tags": []
          },
          "execution_count": 7
        }
      ]
    },
    {
      "cell_type": "code",
      "metadata": {
        "id": "y2Z2rglo7gZj",
        "colab_type": "code",
        "colab": {
          "base_uri": "https://localhost:8080/",
          "height": 35
        },
        "outputId": "060f684f-3ebf-4fb9-baa2-44e2de7ae572"
      },
      "source": [
        "# Combine multiple lists\n",
        "combined_list = first_list + second_list\n",
        "combined_list"
      ],
      "execution_count": null,
      "outputs": [
        {
          "output_type": "execute_result",
          "data": {
            "text/plain": [
              "[3, 5, 7, 10, 1, 'python', 3]"
            ]
          },
          "metadata": {
            "tags": []
          },
          "execution_count": 8
        }
      ]
    },
    {
      "cell_type": "code",
      "metadata": {
        "id": "8FIlELof7hhD",
        "colab_type": "code",
        "colab": {
          "base_uri": "https://localhost:8080/",
          "height": 35
        },
        "outputId": "e31355af-a1a1-409f-eeab-a67b4a31c1a0"
      },
      "source": [
        "# You can slice a list, just like strings\n",
        "combined_list[0:3]"
      ],
      "execution_count": null,
      "outputs": [
        {
          "output_type": "execute_result",
          "data": {
            "text/plain": [
              "[3, 5, 7]"
            ]
          },
          "metadata": {
            "tags": []
          },
          "execution_count": 9
        }
      ]
    },
    {
      "cell_type": "code",
      "metadata": {
        "id": "PPvQTHSY7i7T",
        "colab_type": "code",
        "colab": {
          "base_uri": "https://localhost:8080/",
          "height": 35
        },
        "outputId": "80b0e953-7d4f-44fc-c260-3afecc325143"
      },
      "source": [
        "# Append a new entry to the list\n",
        "combined_list.append(600)\n",
        "combined_list"
      ],
      "execution_count": null,
      "outputs": [
        {
          "output_type": "execute_result",
          "data": {
            "text/plain": [
              "[3, 5, 7, 10, 1, 'python', 3, 600]"
            ]
          },
          "metadata": {
            "tags": []
          },
          "execution_count": 10
        }
      ]
    },
    {
      "cell_type": "code",
      "metadata": {
        "id": "NZuqurNN7kQT",
        "colab_type": "code",
        "colab": {
          "base_uri": "https://localhost:8080/",
          "height": 35
        },
        "outputId": "7b6a2a90-be3d-4b1f-9f18-40cf218a8da4"
      },
      "source": [
        "# Remove the last entry from the list\n",
        "combined_list.pop()"
      ],
      "execution_count": null,
      "outputs": [
        {
          "output_type": "execute_result",
          "data": {
            "text/plain": [
              "600"
            ]
          },
          "metadata": {
            "tags": []
          },
          "execution_count": 11
        }
      ]
    },
    {
      "cell_type": "code",
      "metadata": {
        "id": "TkURgwEA7lbD",
        "colab_type": "code",
        "colab": {
          "base_uri": "https://localhost:8080/",
          "height": 143
        },
        "outputId": "6fc56502-864e-4430-978b-fe8edc1653d6"
      },
      "source": [
        "# Iterate the list\n",
        "for item in combined_list:\n",
        "    print(item)"
      ],
      "execution_count": null,
      "outputs": [
        {
          "output_type": "stream",
          "text": [
            "3\n",
            "5\n",
            "7\n",
            "10\n",
            "1\n",
            "python\n",
            "3\n"
          ],
          "name": "stdout"
        }
      ]
    },
    {
      "cell_type": "markdown",
      "metadata": {
        "id": "K5oFfd3i7odu",
        "colab_type": "text"
      },
      "source": [
        "### 튜플(Tuples)\n",
        "\n",
        "A tuple is similar to a list, but you use them with parentheses ( ) instead of square brackets. The main difference is that a tuple is immutable, while a list is mutable."
      ]
    },
    {
      "cell_type": "code",
      "metadata": {
        "id": "_kmzHcr87m0z",
        "colab_type": "code",
        "colab": {
          "base_uri": "https://localhost:8080/",
          "height": 35
        },
        "outputId": "8aa1b8a5-0c9b-467b-c3a8-155829dca763"
      },
      "source": [
        "my_tuple = (1, 2, 3, 4, 5)\n",
        "my_tuple[1:4]"
      ],
      "execution_count": null,
      "outputs": [
        {
          "output_type": "execute_result",
          "data": {
            "text/plain": [
              "(2, 3, 4)"
            ]
          },
          "metadata": {
            "tags": []
          },
          "execution_count": 13
        }
      ]
    },
    {
      "cell_type": "markdown",
      "metadata": {
        "id": "4t0iPfCj7s2a",
        "colab_type": "text"
      },
      "source": [
        "### 딕셔너리(Dictionaries)\n",
        "\n",
        "A dictionary is also known as an associative array. A dictionary consists of a collection of key-value pairs. Each key-value pair maps the key to its associated value."
      ]
    },
    {
      "cell_type": "code",
      "metadata": {
        "id": "Jwwj3Ryy7q7j",
        "colab_type": "code",
        "colab": {
          "base_uri": "https://localhost:8080/",
          "height": 35
        },
        "outputId": "b9140acf-608f-4fb9-eec8-ab431cc73360"
      },
      "source": [
        "desk_location = {'jack': 123, 'joe': 234, 'hary': 543}\n",
        "desk_location['jack']"
      ],
      "execution_count": null,
      "outputs": [
        {
          "output_type": "execute_result",
          "data": {
            "text/plain": [
              "123"
            ]
          },
          "metadata": {
            "tags": []
          },
          "execution_count": 14
        }
      ]
    },
    {
      "cell_type": "markdown",
      "metadata": {
        "id": "VPzyd39D7w-d",
        "colab_type": "text"
      },
      "source": [
        "## 6. JSON \n",
        "\n",
        "JSON is text writen in JavaScript Object Notation. Python has a built-in package called `json` that can be used to work with JSON data."
      ]
    },
    {
      "cell_type": "code",
      "metadata": {
        "id": "5UFSEAiH7u5K",
        "colab_type": "code",
        "colab": {
          "base_uri": "https://localhost:8080/",
          "height": 35
        },
        "outputId": "4408a5cd-35cd-48b2-d9ca-ce348cc39acf"
      },
      "source": [
        "import json\n",
        "\n",
        "# Sample JSON data\n",
        "x = '{\"first_name\":\"Jane\", \"last_name\":\"Doe\", \"age\":25, \"city\":\"Chicago\"}'\n",
        "\n",
        "# Read JSON data\n",
        "y = json.loads(x)\n",
        "\n",
        "# Print the output, which is similar to a dictonary\n",
        "print(\"Employee name is \"+ y[\"first_name\"] + \" \" + y[\"last_name\"])"
      ],
      "execution_count": null,
      "outputs": [
        {
          "output_type": "stream",
          "text": [
            "Employee name is Jane Doe\n"
          ],
          "name": "stdout"
        }
      ]
    },
    {
      "cell_type": "markdown",
      "metadata": {
        "id": "YnLtIHGh71Bj",
        "colab_type": "text"
      },
      "source": [
        "## 7. 반복문(Loops)\n",
        "**If, Else, ElIf loop**: Python supports conditional statements like any other programming language. Python relies on indentation (whitespace at the begining of the line) to define the scope of the code. "
      ]
    },
    {
      "cell_type": "code",
      "metadata": {
        "id": "7TWC0VOL70Zq",
        "colab_type": "code",
        "colab": {
          "base_uri": "https://localhost:8080/",
          "height": 53
        },
        "outputId": "2917767e-5a85-45fe-92f6-5d3754f474a3"
      },
      "source": [
        "a = 22\n",
        "b = 33\n",
        "c = 100\n",
        "\n",
        "# if ... else example\n",
        "if a > b:\n",
        "    print(\"a is greater than b\")\n",
        "else:\n",
        "    print(\"b is greater than a\")\n",
        "    \n",
        "    \n",
        "# if .. else .. elif example\n",
        "\n",
        "if a > b:\n",
        "    print(\"a is greater than b\")\n",
        "elif b > c:\n",
        "    print(\"b is greater than c\")\n",
        "else:\n",
        "    print(\"b is greater than a and c is greater than b\")"
      ],
      "execution_count": null,
      "outputs": [
        {
          "output_type": "stream",
          "text": [
            "b is greater than a\n",
            "b is greater than a and c is greater than b\n"
          ],
          "name": "stdout"
        }
      ]
    },
    {
      "cell_type": "markdown",
      "metadata": {
        "id": "xkvFLEu9764-",
        "colab_type": "text"
      },
      "source": [
        "**While loop:** Executes a set of statements as long as the condition is true"
      ]
    },
    {
      "cell_type": "code",
      "metadata": {
        "id": "DYtSlBsf76Li",
        "colab_type": "code",
        "colab": {
          "base_uri": "https://localhost:8080/",
          "height": 287
        },
        "outputId": "fb77774f-f320-4fe0-c20b-a8e9864c9afb"
      },
      "source": [
        "# Sample while example\n",
        "i = 1\n",
        "while i < 10:\n",
        "    print(\"count is \" + str(i))\n",
        "    i += 1\n",
        "\n",
        "print(\"=\"*10)\n",
        "\n",
        "# Continue to next iteration if x is 2. Finally, print message once the condition is false.\n",
        "\n",
        "x = 0\n",
        "while x < 5:\n",
        "    x += 1\n",
        "    if x == 2:\n",
        "        continue\n",
        "    print(x)\n",
        "else:\n",
        "    print(\"x is no longer less than 5\")"
      ],
      "execution_count": null,
      "outputs": [
        {
          "output_type": "stream",
          "text": [
            "count is 1\n",
            "count is 2\n",
            "count is 3\n",
            "count is 4\n",
            "count is 5\n",
            "count is 6\n",
            "count is 7\n",
            "count is 8\n",
            "count is 9\n",
            "==========\n",
            "1\n",
            "3\n",
            "4\n",
            "5\n",
            "x is no longer less than 5\n"
          ],
          "name": "stdout"
        }
      ]
    },
    {
      "cell_type": "markdown",
      "metadata": {
        "id": "Ape9fkqk8AWt",
        "colab_type": "text"
      },
      "source": [
        "**For loop:** A `For` loop is more like an iterator in Python. A `For` loop is used for iterating over a sequence (list, tuple, dictionay, set, string, or range)."
      ]
    },
    {
      "cell_type": "code",
      "metadata": {
        "id": "JItP7S6A7-dU",
        "colab_type": "code",
        "colab": {
          "base_uri": "https://localhost:8080/",
          "height": 557
        },
        "outputId": "ed84ee8e-9438-4fbb-8299-9d49256afee1"
      },
      "source": [
        "# Sample for loop examples\n",
        "fruits = [\"orange\", \"banana\", \"apple\", \"grape\", \"cherry\"]\n",
        "for fruit in fruits:\n",
        "    print(fruit)\n",
        "\n",
        "print(\"\\n\")\n",
        "print(\"=\"*10)\n",
        "print(\"\\n\")\n",
        "\n",
        "# Iterating range\n",
        "for x in range(1, 10, 2):\n",
        "    print(x)\n",
        "else:\n",
        "    print(\"task complete\")\n",
        "\n",
        "print(\"\\n\")\n",
        "print(\"=\"*10)\n",
        "print(\"\\n\")\n",
        "\n",
        "# Iterating multiple lists\n",
        "traffic_lights = [\"red\", \"yellow\", \"green\"]\n",
        "action = [\"stop\", \"slow down\", \"go\"]\n",
        "\n",
        "for light in traffic_lights:\n",
        "    for task in action:\n",
        "        print(light, task)"
      ],
      "execution_count": null,
      "outputs": [
        {
          "output_type": "stream",
          "text": [
            "orange\n",
            "banana\n",
            "apple\n",
            "grape\n",
            "cherry\n",
            "\n",
            "\n",
            "==========\n",
            "\n",
            "\n",
            "1\n",
            "3\n",
            "5\n",
            "7\n",
            "9\n",
            "task complete\n",
            "\n",
            "\n",
            "==========\n",
            "\n",
            "\n",
            "red stop\n",
            "red slow down\n",
            "red go\n",
            "yellow stop\n",
            "yellow slow down\n",
            "yellow go\n",
            "green stop\n",
            "green slow down\n",
            "green go\n"
          ],
          "name": "stdout"
        }
      ]
    },
    {
      "cell_type": "markdown",
      "metadata": {
        "id": "dwim4ALT8HDP",
        "colab_type": "text"
      },
      "source": [
        "## 8. 파일다루기\n",
        "The key function for working with files in Python is the `open()` function. The `open()` function takes two parameters: filename and mode.\n",
        "\n",
        "There are four different methods (modes) for opening a file:\n",
        "\n",
        "- \"r\" - Read\n",
        "- \"a\" - Append\n",
        "- \"w\" - Write\n",
        "- \"x\" - Create\n",
        "\n",
        "In addition, you can specify if the file should be handled in binary or text mode.\n",
        "\n",
        "- \"t\" - Text\n",
        "- \"b\" - Binary"
      ]
    },
    {
      "cell_type": "code",
      "metadata": {
        "id": "hcXypK4z8BNb",
        "colab_type": "code",
        "colab": {}
      },
      "source": [
        "# Let's create a test text file\n",
        "!echo \"This is a test file with text in it. This is the first line.\" > test.txt\n",
        "!echo \"This is the second line.\" >> test.txt\n",
        "!echo \"This is the third line.\" >> test.txt"
      ],
      "execution_count": null,
      "outputs": []
    },
    {
      "cell_type": "code",
      "metadata": {
        "id": "yvV7whNQ8KL7",
        "colab_type": "code",
        "colab": {
          "base_uri": "https://localhost:8080/",
          "height": 323
        },
        "outputId": "6cbd5325-35af-4f40-8db1-8459a83514dd"
      },
      "source": [
        "# Read file\n",
        "file = open('test.txt', 'r')\n",
        "print(file.read())\n",
        "file.close()\n",
        "\n",
        "print(\"\\n\")\n",
        "print(\"=\"*10)\n",
        "print(\"\\n\")\n",
        "\n",
        "# Read first 10 characters of the file\n",
        "file = open('test.txt', 'r')\n",
        "print(file.read(10))\n",
        "file.close()\n",
        "\n",
        "print(\"\\n\")\n",
        "print(\"=\"*10)\n",
        "print(\"\\n\")\n",
        "\n",
        "# Read line from the file\n",
        "\n",
        "file = open('test.txt', 'r')\n",
        "print(file.readline())\n",
        "file.close()"
      ],
      "execution_count": null,
      "outputs": [
        {
          "output_type": "stream",
          "text": [
            "This is a test file with text in it. This is the first line.\n",
            "This is the second line.\n",
            "This is the third line.\n",
            "\n",
            "\n",
            "\n",
            "==========\n",
            "\n",
            "\n",
            "This is a \n",
            "\n",
            "\n",
            "==========\n",
            "\n",
            "\n",
            "This is a test file with text in it. This is the first line.\n",
            "\n"
          ],
          "name": "stdout"
        }
      ]
    },
    {
      "cell_type": "code",
      "metadata": {
        "id": "LWFeaFcT8NTD",
        "colab_type": "code",
        "colab": {
          "base_uri": "https://localhost:8080/",
          "height": 35
        },
        "outputId": "df71f15c-93a3-435b-cafd-cb0cf1b77d74"
      },
      "source": [
        "# Create new file\n",
        "\n",
        "file = open('test2.txt', 'w')\n",
        "file.write(\"This is content in the new test2 file.\")\n",
        "file.close()\n",
        "\n",
        "# Read the content of the new file\n",
        "file = open('test2.txt', 'r')\n",
        "print(file.read())\n",
        "file.close()"
      ],
      "execution_count": null,
      "outputs": [
        {
          "output_type": "stream",
          "text": [
            "This is content in the new test2 file.\n"
          ],
          "name": "stdout"
        }
      ]
    },
    {
      "cell_type": "code",
      "metadata": {
        "id": "fsO9mQ5y8Qvi",
        "colab_type": "code",
        "colab": {
          "base_uri": "https://localhost:8080/",
          "height": 53
        },
        "outputId": "614a66ca-3453-48f7-c500-9a3bb4d6c1d4"
      },
      "source": [
        "# Update file\n",
        "file = open('test2.txt', 'a')\n",
        "file.write(\"\\nThis is additional content in the new file.\")\n",
        "file.close()\n",
        "\n",
        "# Read the content of the new file\n",
        "file = open('test2.txt', 'r')\n",
        "print(file.read())\n",
        "file.close()"
      ],
      "execution_count": null,
      "outputs": [
        {
          "output_type": "stream",
          "text": [
            "This is content in the new test2 file.\n",
            "This is additional content in the new file.\n"
          ],
          "name": "stdout"
        }
      ]
    },
    {
      "cell_type": "code",
      "metadata": {
        "id": "QHOoCBHw8R1D",
        "colab_type": "code",
        "colab": {
          "base_uri": "https://localhost:8080/",
          "height": 53
        },
        "outputId": "57ffc0b2-cdd0-4139-8a52-4d32646e78d4"
      },
      "source": [
        "# Delete file\n",
        "import os\n",
        "file_names = [\"test.txt\", \"test2.txt\"]\n",
        "for item in file_names:\n",
        "    if os.path.exists(item):\n",
        "        os.remove(item)\n",
        "        print(f\"File {item} removed successfully!\")\n",
        "    else:\n",
        "        print(f\"{item} file does not exist.\")"
      ],
      "execution_count": null,
      "outputs": [
        {
          "output_type": "stream",
          "text": [
            "File test.txt removed successfully!\n",
            "File test2.txt removed successfully!\n"
          ],
          "name": "stdout"
        }
      ]
    },
    {
      "cell_type": "markdown",
      "metadata": {
        "id": "jQ4XZj1sDte9",
        "colab_type": "text"
      },
      "source": [
        "## 9. 함수(Functions)\n",
        "\n",
        "A function is a block of code that runs when it is called. You can pass data, or *parameters*, into the function. In Python, a function is defined by `def`."
      ]
    },
    {
      "cell_type": "code",
      "metadata": {
        "id": "CMaQ5pbE8U6E",
        "colab_type": "code",
        "colab": {
          "base_uri": "https://localhost:8080/",
          "height": 35
        },
        "outputId": "b43fee7f-1df2-4309-a615-0a8532cc3009"
      },
      "source": [
        "# Defining a function\n",
        "def new_funct():\n",
        "    print(\"A simple function\")\n",
        "\n",
        "# Calling the function\n",
        "new_funct()"
      ],
      "execution_count": null,
      "outputs": [
        {
          "output_type": "stream",
          "text": [
            "A simple function\n"
          ],
          "name": "stdout"
        }
      ]
    },
    {
      "cell_type": "code",
      "metadata": {
        "id": "pQodESPO8VTS",
        "colab_type": "code",
        "colab": {
          "base_uri": "https://localhost:8080/",
          "height": 71
        },
        "outputId": "bdb9bcbd-ee16-4553-fc78-6e2f57510c50"
      },
      "source": [
        "# Sample fuction with parameters\n",
        "\n",
        "def param_funct(first_name):\n",
        "    print(f\"Employee name is {first_name}.\")\n",
        "\n",
        "param_funct(\"Harry\")\n",
        "param_funct(\"Larry\")\n",
        "param_funct(\"Shally\")"
      ],
      "execution_count": null,
      "outputs": [
        {
          "output_type": "stream",
          "text": [
            "Employee name is Harry.\n",
            "Employee name is Larry.\n",
            "Employee name is Shally.\n"
          ],
          "name": "stdout"
        }
      ]
    },
    {
      "cell_type": "markdown",
      "metadata": {
        "id": "0pRuJt4J8YNu",
        "colab_type": "text"
      },
      "source": [
        "**Anonymous functions (lambda):** A lambda is a small anonymous function. A lambda function can take any number of arguments but only one expression."
      ]
    },
    {
      "cell_type": "code",
      "metadata": {
        "id": "mPMH4m898WnK",
        "colab_type": "code",
        "colab": {
          "base_uri": "https://localhost:8080/",
          "height": 143
        },
        "outputId": "4bf37568-544c-4456-ce76-262a4c25d73a"
      },
      "source": [
        "# Sample lambda example\n",
        "x = lambda y: y + 100\n",
        "print(x(15))\n",
        "\n",
        "print(\"\\n\")\n",
        "print(\"=\"*10)\n",
        "print(\"\\n\")\n",
        "\n",
        "x = lambda a, b: a*b/100\n",
        "print(x(2,4))"
      ],
      "execution_count": null,
      "outputs": [
        {
          "output_type": "stream",
          "text": [
            "115\n",
            "\n",
            "\n",
            "==========\n",
            "\n",
            "\n",
            "0.08\n"
          ],
          "name": "stdout"
        }
      ]
    },
    {
      "cell_type": "markdown",
      "metadata": {
        "id": "DYMOemKE8cQ6",
        "colab_type": "text"
      },
      "source": [
        "## 10. 시간데이터 처리(working with datetime)\n",
        "\n",
        "A `datetime` module in Python can be used to work with date objects."
      ]
    },
    {
      "cell_type": "code",
      "metadata": {
        "id": "dXrqclci8aWi",
        "colab_type": "code",
        "colab": {
          "base_uri": "https://localhost:8080/",
          "height": 125
        },
        "outputId": "bd988821-aba1-4d7c-8884-51e6f853f19f"
      },
      "source": [
        "import datetime\n",
        "\n",
        "x = datetime.datetime.now()\n",
        "\n",
        "print(x)\n",
        "print(x.year)\n",
        "print(x.strftime(\"%A\"))\n",
        "print(x.strftime(\"%B\"))\n",
        "print(x.strftime(\"%d\"))\n",
        "print(x.strftime(\"%H:%M:%S %p\"))"
      ],
      "execution_count": null,
      "outputs": [
        {
          "output_type": "stream",
          "text": [
            "2020-08-04 05:29:34.412883\n",
            "2020\n",
            "Tuesday\n",
            "August\n",
            "04\n",
            "05:29:34 AM\n"
          ],
          "name": "stdout"
        }
      ]
    },
    {
      "cell_type": "markdown",
      "metadata": {
        "id": "vxX66srH8mE6",
        "colab_type": "text"
      },
      "source": [
        "## 11. NumPy\n",
        "\n",
        "NumPy is the fundamental package for scientific computing with Python. Among other things, it contains:\n",
        "\n",
        "- Powerful N-dimensional array object\n",
        "- Sophisticated (broadcasting) functions\n",
        "- Tools for integrating C/C++ and Fortran code\n",
        "- Useful linear algebra, Fourier transform, and random number capabilities"
      ]
    },
    {
      "cell_type": "code",
      "metadata": {
        "id": "2udIf4FM8kLS",
        "colab_type": "code",
        "colab": {
          "base_uri": "https://localhost:8080/",
          "height": 35
        },
        "outputId": "86d6f007-1bb6-4d46-8d73-977aad3a4b41"
      },
      "source": [
        "# Install NumPy using pip\n",
        "!pip install numpy"
      ],
      "execution_count": null,
      "outputs": [
        {
          "output_type": "stream",
          "text": [
            "Requirement already satisfied: numpy in /usr/local/lib/python3.6/dist-packages (1.18.5)\n"
          ],
          "name": "stdout"
        }
      ]
    },
    {
      "cell_type": "code",
      "metadata": {
        "id": "nWGHq0Qv8pBK",
        "colab_type": "code",
        "colab": {}
      },
      "source": [
        "# Import NumPy module\n",
        "import numpy as np"
      ],
      "execution_count": null,
      "outputs": []
    },
    {
      "cell_type": "markdown",
      "metadata": {
        "id": "5Hx7yKGV8sjp",
        "colab_type": "text"
      },
      "source": [
        "### Inspecting your array"
      ]
    },
    {
      "cell_type": "code",
      "metadata": {
        "id": "Bgmznlp68qWq",
        "colab_type": "code",
        "colab": {}
      },
      "source": [
        "# Create array\n",
        "a = np.arange(15).reshape(3, 5) # Create array with range 0-14 in 3 by 5 dimension\n",
        "b = np.zeros((3,5)) # Create array with zeroes\n",
        "c = np.ones( (2,3,4), dtype=np.int16 ) # Createarray with ones and defining data types\n",
        "d = np.ones((3,5))"
      ],
      "execution_count": null,
      "outputs": []
    },
    {
      "cell_type": "code",
      "metadata": {
        "id": "vjIXntw78uWy",
        "colab_type": "code",
        "colab": {
          "base_uri": "https://localhost:8080/",
          "height": 35
        },
        "outputId": "c0bcbe06-22a6-4a21-a4b0-846486e79fcb"
      },
      "source": [
        "a.shape # Array dimension"
      ],
      "execution_count": null,
      "outputs": [
        {
          "output_type": "execute_result",
          "data": {
            "text/plain": [
              "(3, 5)"
            ]
          },
          "metadata": {
            "tags": []
          },
          "execution_count": 32
        }
      ]
    },
    {
      "cell_type": "code",
      "metadata": {
        "id": "RIwCnYNr8voT",
        "colab_type": "code",
        "colab": {
          "base_uri": "https://localhost:8080/",
          "height": 35
        },
        "outputId": "b325a3a4-063c-44b0-d225-94da55da4232"
      },
      "source": [
        "len(b)# Length of array"
      ],
      "execution_count": null,
      "outputs": [
        {
          "output_type": "execute_result",
          "data": {
            "text/plain": [
              "3"
            ]
          },
          "metadata": {
            "tags": []
          },
          "execution_count": 33
        }
      ]
    },
    {
      "cell_type": "code",
      "metadata": {
        "id": "DaeEyOza8wlB",
        "colab_type": "code",
        "colab": {
          "base_uri": "https://localhost:8080/",
          "height": 35
        },
        "outputId": "9cec0968-cb5c-40c9-e744-4ae5f1a40ed9"
      },
      "source": [
        "c.ndim # Number of array dimensions"
      ],
      "execution_count": null,
      "outputs": [
        {
          "output_type": "execute_result",
          "data": {
            "text/plain": [
              "3"
            ]
          },
          "metadata": {
            "tags": []
          },
          "execution_count": 34
        }
      ]
    },
    {
      "cell_type": "code",
      "metadata": {
        "id": "utqg0Yi28x4C",
        "colab_type": "code",
        "colab": {
          "base_uri": "https://localhost:8080/",
          "height": 35
        },
        "outputId": "51119c31-c290-4336-919e-b53609d4cb6d"
      },
      "source": [
        "a.size # Number of array elements"
      ],
      "execution_count": null,
      "outputs": [
        {
          "output_type": "execute_result",
          "data": {
            "text/plain": [
              "15"
            ]
          },
          "metadata": {
            "tags": []
          },
          "execution_count": 35
        }
      ]
    },
    {
      "cell_type": "code",
      "metadata": {
        "id": "1463nn_c8y5S",
        "colab_type": "code",
        "colab": {
          "base_uri": "https://localhost:8080/",
          "height": 35
        },
        "outputId": "8e24c80b-eaf2-409a-fdfa-590c33d6e05f"
      },
      "source": [
        "b.dtype # Data type of array elements"
      ],
      "execution_count": null,
      "outputs": [
        {
          "output_type": "execute_result",
          "data": {
            "text/plain": [
              "dtype('float64')"
            ]
          },
          "metadata": {
            "tags": []
          },
          "execution_count": 36
        }
      ]
    },
    {
      "cell_type": "code",
      "metadata": {
        "id": "Sc1JZUJr80mK",
        "colab_type": "code",
        "colab": {
          "base_uri": "https://localhost:8080/",
          "height": 35
        },
        "outputId": "165a7611-4f28-48f9-e7fb-8548f3fa67ad"
      },
      "source": [
        "c.dtype.name # Name of data type"
      ],
      "execution_count": null,
      "outputs": [
        {
          "output_type": "execute_result",
          "data": {
            "application/vnd.google.colaboratory.intrinsic+json": {
              "type": "string"
            },
            "text/plain": [
              "'int16'"
            ]
          },
          "metadata": {
            "tags": []
          },
          "execution_count": 37
        }
      ]
    },
    {
      "cell_type": "code",
      "metadata": {
        "id": "EUejdwde813y",
        "colab_type": "code",
        "colab": {
          "base_uri": "https://localhost:8080/",
          "height": 143
        },
        "outputId": "0574304d-bc4c-46b3-e485-3c544d112720"
      },
      "source": [
        "c.astype(float) # Convert an array type to a different type"
      ],
      "execution_count": null,
      "outputs": [
        {
          "output_type": "execute_result",
          "data": {
            "text/plain": [
              "array([[[1., 1., 1., 1.],\n",
              "        [1., 1., 1., 1.],\n",
              "        [1., 1., 1., 1.]],\n",
              "\n",
              "       [[1., 1., 1., 1.],\n",
              "        [1., 1., 1., 1.],\n",
              "        [1., 1., 1., 1.]]])"
            ]
          },
          "metadata": {
            "tags": []
          },
          "execution_count": 38
        }
      ]
    },
    {
      "cell_type": "markdown",
      "metadata": {
        "id": "Kt9wIhzw84yV",
        "colab_type": "text"
      },
      "source": [
        "### Basic math operations"
      ]
    },
    {
      "cell_type": "code",
      "metadata": {
        "id": "JWidDezK83AR",
        "colab_type": "code",
        "colab": {}
      },
      "source": [
        "# Create array\n",
        "a = np.arange(15).reshape(3, 5) # Create array with range 0-14 in 3 by 5 dimension\n",
        "b = np.zeros((3,5)) # Create array with zeroes\n",
        "c = np.ones( (2,3,4), dtype=np.int16 ) # Createarray with ones and defining data types\n",
        "d = np.ones((3,5))"
      ],
      "execution_count": null,
      "outputs": []
    },
    {
      "cell_type": "code",
      "metadata": {
        "id": "MAijQzNE85Yx",
        "colab_type": "code",
        "colab": {
          "base_uri": "https://localhost:8080/",
          "height": 71
        },
        "outputId": "5fab8be3-af37-4391-b136-1db01a96743f"
      },
      "source": [
        "np.add(a,b) # Addition"
      ],
      "execution_count": null,
      "outputs": [
        {
          "output_type": "execute_result",
          "data": {
            "text/plain": [
              "array([[ 0.,  1.,  2.,  3.,  4.],\n",
              "       [ 5.,  6.,  7.,  8.,  9.],\n",
              "       [10., 11., 12., 13., 14.]])"
            ]
          },
          "metadata": {
            "tags": []
          },
          "execution_count": 40
        }
      ]
    },
    {
      "cell_type": "code",
      "metadata": {
        "id": "kUdK9oiz88fR",
        "colab_type": "code",
        "colab": {
          "base_uri": "https://localhost:8080/",
          "height": 71
        },
        "outputId": "654d75b5-2178-4a5a-bd3a-4273bab7413a"
      },
      "source": [
        "np.subtract(a,b) # Substraction"
      ],
      "execution_count": null,
      "outputs": [
        {
          "output_type": "execute_result",
          "data": {
            "text/plain": [
              "array([[ 0.,  1.,  2.,  3.,  4.],\n",
              "       [ 5.,  6.,  7.,  8.,  9.],\n",
              "       [10., 11., 12., 13., 14.]])"
            ]
          },
          "metadata": {
            "tags": []
          },
          "execution_count": 41
        }
      ]
    },
    {
      "cell_type": "code",
      "metadata": {
        "id": "K916whfK89kB",
        "colab_type": "code",
        "colab": {
          "base_uri": "https://localhost:8080/",
          "height": 71
        },
        "outputId": "daad8ead-3795-49ed-c746-50144c89f9f4"
      },
      "source": [
        "np.divide(a,d) # Division"
      ],
      "execution_count": null,
      "outputs": [
        {
          "output_type": "execute_result",
          "data": {
            "text/plain": [
              "array([[ 0.,  1.,  2.,  3.,  4.],\n",
              "       [ 5.,  6.,  7.,  8.,  9.],\n",
              "       [10., 11., 12., 13., 14.]])"
            ]
          },
          "metadata": {
            "tags": []
          },
          "execution_count": 42
        }
      ]
    },
    {
      "cell_type": "code",
      "metadata": {
        "id": "E_SiB6S78-x5",
        "colab_type": "code",
        "colab": {
          "base_uri": "https://localhost:8080/",
          "height": 71
        },
        "outputId": "21272cc6-1c6d-4d67-9acb-8c5a97fcb52b"
      },
      "source": [
        "np.multiply(a,d) # Multiplication"
      ],
      "execution_count": null,
      "outputs": [
        {
          "output_type": "execute_result",
          "data": {
            "text/plain": [
              "array([[ 0.,  1.,  2.,  3.,  4.],\n",
              "       [ 5.,  6.,  7.,  8.,  9.],\n",
              "       [10., 11., 12., 13., 14.]])"
            ]
          },
          "metadata": {
            "tags": []
          },
          "execution_count": 43
        }
      ]
    },
    {
      "cell_type": "code",
      "metadata": {
        "id": "nwaZChe88_wi",
        "colab_type": "code",
        "colab": {
          "base_uri": "https://localhost:8080/",
          "height": 35
        },
        "outputId": "87435d22-4dad-4fda-d354-f6df8dcfd7f9"
      },
      "source": [
        "np.array_equal(a,b) # Comparison - arraywise"
      ],
      "execution_count": null,
      "outputs": [
        {
          "output_type": "execute_result",
          "data": {
            "text/plain": [
              "False"
            ]
          },
          "metadata": {
            "tags": []
          },
          "execution_count": 44
        }
      ]
    },
    {
      "cell_type": "markdown",
      "metadata": {
        "id": "dXZi-5Rr9CYS",
        "colab_type": "text"
      },
      "source": [
        "### Aggregate functions"
      ]
    },
    {
      "cell_type": "code",
      "metadata": {
        "id": "FGRV1C0j9Ayh",
        "colab_type": "code",
        "colab": {}
      },
      "source": [
        "# Create array\n",
        "a = np.arange(15).reshape(3, 5) # Create array with range 0-14 in 3 by 5 dimension\n",
        "b = np.zeros((3,5)) # Create array with zeroes\n",
        "c = np.ones( (2,3,4), dtype=np.int16 ) # Createarray with ones and defining data types\n",
        "d = np.ones((3,5))"
      ],
      "execution_count": null,
      "outputs": []
    },
    {
      "cell_type": "code",
      "metadata": {
        "id": "j1VfUCGd9FB4",
        "colab_type": "code",
        "colab": {
          "base_uri": "https://localhost:8080/",
          "height": 35
        },
        "outputId": "f73177d5-5949-4011-db98-b2657f970567"
      },
      "source": [
        "a.sum() # Array-wise sum"
      ],
      "execution_count": null,
      "outputs": [
        {
          "output_type": "execute_result",
          "data": {
            "text/plain": [
              "105"
            ]
          },
          "metadata": {
            "tags": []
          },
          "execution_count": 46
        }
      ]
    },
    {
      "cell_type": "code",
      "metadata": {
        "id": "pM43Ueon9GRJ",
        "colab_type": "code",
        "colab": {
          "base_uri": "https://localhost:8080/",
          "height": 35
        },
        "outputId": "1df82e8f-9c47-40d1-b816-0528b0ea3fe4"
      },
      "source": [
        "a.min() # Array-wise min value"
      ],
      "execution_count": null,
      "outputs": [
        {
          "output_type": "execute_result",
          "data": {
            "text/plain": [
              "0"
            ]
          },
          "metadata": {
            "tags": []
          },
          "execution_count": 47
        }
      ]
    },
    {
      "cell_type": "code",
      "metadata": {
        "id": "q4MTaT-59HPh",
        "colab_type": "code",
        "colab": {
          "base_uri": "https://localhost:8080/",
          "height": 35
        },
        "outputId": "03bd78d1-a2c1-45bf-fc92-831815de237e"
      },
      "source": [
        "a.mean() # Array-wise mean"
      ],
      "execution_count": null,
      "outputs": [
        {
          "output_type": "execute_result",
          "data": {
            "text/plain": [
              "7.0"
            ]
          },
          "metadata": {
            "tags": []
          },
          "execution_count": 48
        }
      ]
    },
    {
      "cell_type": "code",
      "metadata": {
        "id": "cccdkGkb9IgY",
        "colab_type": "code",
        "colab": {
          "base_uri": "https://localhost:8080/",
          "height": 35
        },
        "outputId": "98a5bb63-fa65-47da-f961-85e2967d3ed0"
      },
      "source": [
        "a.max(axis=0) # Max value of array row"
      ],
      "execution_count": null,
      "outputs": [
        {
          "output_type": "execute_result",
          "data": {
            "text/plain": [
              "array([10, 11, 12, 13, 14])"
            ]
          },
          "metadata": {
            "tags": []
          },
          "execution_count": 49
        }
      ]
    },
    {
      "cell_type": "code",
      "metadata": {
        "id": "oEfxPuDt9JnR",
        "colab_type": "code",
        "colab": {
          "base_uri": "https://localhost:8080/",
          "height": 35
        },
        "outputId": "3b49b3b2-25df-46f7-a021-16ebb5ac1103"
      },
      "source": [
        "np.std(a) # Standard deviation"
      ],
      "execution_count": null,
      "outputs": [
        {
          "output_type": "execute_result",
          "data": {
            "text/plain": [
              "4.320493798938574"
            ]
          },
          "metadata": {
            "tags": []
          },
          "execution_count": 50
        }
      ]
    },
    {
      "cell_type": "markdown",
      "metadata": {
        "id": "BsqD6Rc09NC3",
        "colab_type": "text"
      },
      "source": [
        "### Subsetting, slicing, and indexing"
      ]
    },
    {
      "cell_type": "code",
      "metadata": {
        "id": "YE-gVLrh9KgJ",
        "colab_type": "code",
        "colab": {}
      },
      "source": [
        "# Create array\n",
        "a = np.arange(15).reshape(3, 5) # Create array with range 0-14 in 3 by 5 dimension\n",
        "b = np.zeros((3,5)) # Create array with zeroes\n",
        "c = np.ones( (2,3,4), dtype=np.int16 ) # Createarray with ones and defining data types\n",
        "d = np.ones((3,5))"
      ],
      "execution_count": null,
      "outputs": []
    },
    {
      "cell_type": "code",
      "metadata": {
        "id": "zvNtPkl09PLx",
        "colab_type": "code",
        "colab": {
          "base_uri": "https://localhost:8080/",
          "height": 35
        },
        "outputId": "42b13a23-e94d-440e-ba9f-25a7b26d45f3"
      },
      "source": [
        "a[1,2] # Select element of row 1 and column 2"
      ],
      "execution_count": null,
      "outputs": [
        {
          "output_type": "execute_result",
          "data": {
            "text/plain": [
              "7"
            ]
          },
          "metadata": {
            "tags": []
          },
          "execution_count": 52
        }
      ]
    },
    {
      "cell_type": "code",
      "metadata": {
        "id": "znzDIRm09QeJ",
        "colab_type": "code",
        "colab": {
          "base_uri": "https://localhost:8080/",
          "height": 53
        },
        "outputId": "e0e81e24-19e3-4171-ed61-b459a525fa71"
      },
      "source": [
        "a[0:2] # Select items on index 0 and 1"
      ],
      "execution_count": null,
      "outputs": [
        {
          "output_type": "execute_result",
          "data": {
            "text/plain": [
              "array([[0, 1, 2, 3, 4],\n",
              "       [5, 6, 7, 8, 9]])"
            ]
          },
          "metadata": {
            "tags": []
          },
          "execution_count": 53
        }
      ]
    },
    {
      "cell_type": "code",
      "metadata": {
        "id": "IyKX-cp09RhZ",
        "colab_type": "code",
        "colab": {
          "base_uri": "https://localhost:8080/",
          "height": 35
        },
        "outputId": "370d09f7-0b17-4a0a-c425-275303323e9a"
      },
      "source": [
        "a[:1] # Select all items at row 0"
      ],
      "execution_count": null,
      "outputs": [
        {
          "output_type": "execute_result",
          "data": {
            "text/plain": [
              "array([[0, 1, 2, 3, 4]])"
            ]
          },
          "metadata": {
            "tags": []
          },
          "execution_count": 54
        }
      ]
    },
    {
      "cell_type": "code",
      "metadata": {
        "id": "pejQDyZv9SgI",
        "colab_type": "code",
        "colab": {
          "base_uri": "https://localhost:8080/",
          "height": 35
        },
        "outputId": "e37cd19e-b5a0-4c01-d456-9ac7f440e150"
      },
      "source": [
        "a[-1:] # Select all items from last row"
      ],
      "execution_count": null,
      "outputs": [
        {
          "output_type": "execute_result",
          "data": {
            "text/plain": [
              "array([[10, 11, 12, 13, 14]])"
            ]
          },
          "metadata": {
            "tags": []
          },
          "execution_count": 55
        }
      ]
    },
    {
      "cell_type": "code",
      "metadata": {
        "id": "0mGyAl0u9T7I",
        "colab_type": "code",
        "colab": {
          "base_uri": "https://localhost:8080/",
          "height": 35
        },
        "outputId": "bc521a45-f2de-4edd-d299-af588223ce08"
      },
      "source": [
        "a[a<2] # Select elements from 'a' that are less than 2"
      ],
      "execution_count": null,
      "outputs": [
        {
          "output_type": "execute_result",
          "data": {
            "text/plain": [
              "array([0, 1])"
            ]
          },
          "metadata": {
            "tags": []
          },
          "execution_count": 56
        }
      ]
    },
    {
      "cell_type": "markdown",
      "metadata": {
        "id": "HyPKzUGv9Wjl",
        "colab_type": "text"
      },
      "source": [
        "### Array manipulation"
      ]
    },
    {
      "cell_type": "code",
      "metadata": {
        "id": "qGqONXKE9U-g",
        "colab_type": "code",
        "colab": {}
      },
      "source": [
        "# Create array\n",
        "a = np.arange(15).reshape(3, 5) # Create array with range 0-14 in 3 by 5 dimension\n",
        "b = np.zeros((3,5)) # Create array with zeroes\n",
        "c = np.ones( (2,3,4), dtype=np.int16 ) # Createarray with ones and defining data types\n",
        "d = np.ones((3,5))"
      ],
      "execution_count": null,
      "outputs": []
    },
    {
      "cell_type": "code",
      "metadata": {
        "id": "21_3QKLI9YNw",
        "colab_type": "code",
        "colab": {
          "base_uri": "https://localhost:8080/",
          "height": 107
        },
        "outputId": "002e1146-288c-4258-a3fa-bb555c5d1905"
      },
      "source": [
        "np.transpose(a) # Transpose array 'a'"
      ],
      "execution_count": null,
      "outputs": [
        {
          "output_type": "execute_result",
          "data": {
            "text/plain": [
              "array([[ 0,  5, 10],\n",
              "       [ 1,  6, 11],\n",
              "       [ 2,  7, 12],\n",
              "       [ 3,  8, 13],\n",
              "       [ 4,  9, 14]])"
            ]
          },
          "metadata": {
            "tags": []
          },
          "execution_count": 58
        }
      ]
    },
    {
      "cell_type": "code",
      "metadata": {
        "id": "N-yT-2h-9Z6w",
        "colab_type": "code",
        "colab": {
          "base_uri": "https://localhost:8080/",
          "height": 35
        },
        "outputId": "138584ea-2b56-4801-8f92-1afffef668f5"
      },
      "source": [
        "a.ravel() # Flatten the array"
      ],
      "execution_count": null,
      "outputs": [
        {
          "output_type": "execute_result",
          "data": {
            "text/plain": [
              "array([ 0,  1,  2,  3,  4,  5,  6,  7,  8,  9, 10, 11, 12, 13, 14])"
            ]
          },
          "metadata": {
            "tags": []
          },
          "execution_count": 59
        }
      ]
    },
    {
      "cell_type": "code",
      "metadata": {
        "id": "KO8GnkpD9bHw",
        "colab_type": "code",
        "colab": {
          "base_uri": "https://localhost:8080/",
          "height": 107
        },
        "outputId": "bcee6994-aa27-4d9a-9363-246df18e6da5"
      },
      "source": [
        "a.reshape(5,-2) # Reshape but don't change the data"
      ],
      "execution_count": null,
      "outputs": [
        {
          "output_type": "execute_result",
          "data": {
            "text/plain": [
              "array([[ 0,  1,  2],\n",
              "       [ 3,  4,  5],\n",
              "       [ 6,  7,  8],\n",
              "       [ 9, 10, 11],\n",
              "       [12, 13, 14]])"
            ]
          },
          "metadata": {
            "tags": []
          },
          "execution_count": 60
        }
      ]
    },
    {
      "cell_type": "code",
      "metadata": {
        "id": "SobSFdax9cMg",
        "colab_type": "code",
        "colab": {
          "base_uri": "https://localhost:8080/",
          "height": 71
        },
        "outputId": "c2fc33e9-3e58-4f8c-f054-6427495d1e8b"
      },
      "source": [
        "np.append(a,b) # Append items to the array"
      ],
      "execution_count": null,
      "outputs": [
        {
          "output_type": "execute_result",
          "data": {
            "text/plain": [
              "array([ 0.,  1.,  2.,  3.,  4.,  5.,  6.,  7.,  8.,  9., 10., 11., 12.,\n",
              "       13., 14.,  0.,  0.,  0.,  0.,  0.,  0.,  0.,  0.,  0.,  0.,  0.,\n",
              "        0.,  0.,  0.,  0.])"
            ]
          },
          "metadata": {
            "tags": []
          },
          "execution_count": 61
        }
      ]
    },
    {
      "cell_type": "code",
      "metadata": {
        "id": "gFwZ5uGs9dlQ",
        "colab_type": "code",
        "colab": {
          "base_uri": "https://localhost:8080/",
          "height": 125
        },
        "outputId": "8872b084-48f6-4865-bd7e-89a87ad2f460"
      },
      "source": [
        "np.concatenate((a,d), axis=0) # Concatenate arrays"
      ],
      "execution_count": null,
      "outputs": [
        {
          "output_type": "execute_result",
          "data": {
            "text/plain": [
              "array([[ 0.,  1.,  2.,  3.,  4.],\n",
              "       [ 5.,  6.,  7.,  8.,  9.],\n",
              "       [10., 11., 12., 13., 14.],\n",
              "       [ 1.,  1.,  1.,  1.,  1.],\n",
              "       [ 1.,  1.,  1.,  1.,  1.],\n",
              "       [ 1.,  1.,  1.,  1.,  1.]])"
            ]
          },
          "metadata": {
            "tags": []
          },
          "execution_count": 62
        }
      ]
    },
    {
      "cell_type": "code",
      "metadata": {
        "id": "avVb3Et19eqZ",
        "colab_type": "code",
        "colab": {
          "base_uri": "https://localhost:8080/",
          "height": 71
        },
        "outputId": "9db861dc-e1b5-489a-92e5-6e10297543d3"
      },
      "source": [
        "np.vsplit(a,3) # Split array vertically at 3rd index"
      ],
      "execution_count": null,
      "outputs": [
        {
          "output_type": "execute_result",
          "data": {
            "text/plain": [
              "[array([[0, 1, 2, 3, 4]]),\n",
              " array([[5, 6, 7, 8, 9]]),\n",
              " array([[10, 11, 12, 13, 14]])]"
            ]
          },
          "metadata": {
            "tags": []
          },
          "execution_count": 63
        }
      ]
    },
    {
      "cell_type": "code",
      "metadata": {
        "id": "Bw4sv16D9f9A",
        "colab_type": "code",
        "colab": {
          "base_uri": "https://localhost:8080/",
          "height": 215
        },
        "outputId": "3400aa2a-85e8-4947-bb00-31796c945473"
      },
      "source": [
        "np.hsplit(a,5) # Split array horizontally at 5th index"
      ],
      "execution_count": null,
      "outputs": [
        {
          "output_type": "execute_result",
          "data": {
            "text/plain": [
              "[array([[ 0],\n",
              "        [ 5],\n",
              "        [10]]), array([[ 1],\n",
              "        [ 6],\n",
              "        [11]]), array([[ 2],\n",
              "        [ 7],\n",
              "        [12]]), array([[ 3],\n",
              "        [ 8],\n",
              "        [13]]), array([[ 4],\n",
              "        [ 9],\n",
              "        [14]])]"
            ]
          },
          "metadata": {
            "tags": []
          },
          "execution_count": 64
        }
      ]
    },
    {
      "cell_type": "markdown",
      "metadata": {
        "id": "HsnP2RXU9nBm",
        "colab_type": "text"
      },
      "source": [
        "## Pandas\n",
        "\n",
        "Pandas is an open source, BSD-licensed library providing high-performance, easy-to-use data structures and data analysis tools for the Python programming language.\n",
        "\n",
        "Pandas DataFrames are the most widely used in-memory representation of complex data collections within Python."
      ]
    },
    {
      "cell_type": "code",
      "metadata": {
        "id": "dHxCWMTE9hQA",
        "colab_type": "code",
        "colab": {
          "base_uri": "https://localhost:8080/",
          "height": 179
        },
        "outputId": "3befd4ad-7b73-4b4b-a03a-d9bcde60a6a1"
      },
      "source": [
        "# Install pandas, xlrd, and openpyxl using pip\n",
        "!pip install pandas\n",
        "!pip install xlrd openpyxl"
      ],
      "execution_count": null,
      "outputs": [
        {
          "output_type": "stream",
          "text": [
            "Requirement already satisfied: pandas in /usr/local/lib/python3.6/dist-packages (1.0.5)\n",
            "Requirement already satisfied: python-dateutil>=2.6.1 in /usr/local/lib/python3.6/dist-packages (from pandas) (2.8.1)\n",
            "Requirement already satisfied: numpy>=1.13.3 in /usr/local/lib/python3.6/dist-packages (from pandas) (1.18.5)\n",
            "Requirement already satisfied: pytz>=2017.2 in /usr/local/lib/python3.6/dist-packages (from pandas) (2018.9)\n",
            "Requirement already satisfied: six>=1.5 in /usr/local/lib/python3.6/dist-packages (from python-dateutil>=2.6.1->pandas) (1.15.0)\n",
            "Requirement already satisfied: xlrd in /usr/local/lib/python3.6/dist-packages (1.1.0)\n",
            "Requirement already satisfied: openpyxl in /usr/local/lib/python3.6/dist-packages (2.5.9)\n",
            "Requirement already satisfied: et-xmlfile in /usr/local/lib/python3.6/dist-packages (from openpyxl) (1.0.1)\n",
            "Requirement already satisfied: jdcal in /usr/local/lib/python3.6/dist-packages (from openpyxl) (1.4.1)\n"
          ],
          "name": "stdout"
        }
      ]
    },
    {
      "cell_type": "markdown",
      "metadata": {
        "id": "R2Hnw-g69lA1",
        "colab_type": "text"
      },
      "source": [
        ""
      ]
    },
    {
      "cell_type": "code",
      "metadata": {
        "id": "pnXU74Qo9uX_",
        "colab_type": "code",
        "colab": {}
      },
      "source": [
        "# Import NumPy and Pandas modules\n",
        "import numpy as np\n",
        "import pandas as pd"
      ],
      "execution_count": null,
      "outputs": []
    },
    {
      "cell_type": "code",
      "metadata": {
        "id": "lhg1VmUz9u74",
        "colab_type": "code",
        "colab": {
          "base_uri": "https://localhost:8080/",
          "height": 173
        },
        "outputId": "78c12f01-0f9c-45ad-e698-6f0526686b7e"
      },
      "source": [
        "# Sample dataframe df\n",
        "df = pd.DataFrame({'num_legs': [2, 4, np.nan, 0],\n",
        "                   'num_wings': [2, 0, 0, 0],\n",
        "                   'num_specimen_seen': [10, np.nan, 1, 8]},\n",
        "                   index=['falcon', 'dog', 'spider', 'fish'])\n",
        "df # Display dataframe df"
      ],
      "execution_count": null,
      "outputs": [
        {
          "output_type": "execute_result",
          "data": {
            "text/html": [
              "<div>\n",
              "<style scoped>\n",
              "    .dataframe tbody tr th:only-of-type {\n",
              "        vertical-align: middle;\n",
              "    }\n",
              "\n",
              "    .dataframe tbody tr th {\n",
              "        vertical-align: top;\n",
              "    }\n",
              "\n",
              "    .dataframe thead th {\n",
              "        text-align: right;\n",
              "    }\n",
              "</style>\n",
              "<table border=\"1\" class=\"dataframe\">\n",
              "  <thead>\n",
              "    <tr style=\"text-align: right;\">\n",
              "      <th></th>\n",
              "      <th>num_legs</th>\n",
              "      <th>num_wings</th>\n",
              "      <th>num_specimen_seen</th>\n",
              "    </tr>\n",
              "  </thead>\n",
              "  <tbody>\n",
              "    <tr>\n",
              "      <th>falcon</th>\n",
              "      <td>2.0</td>\n",
              "      <td>2</td>\n",
              "      <td>10.0</td>\n",
              "    </tr>\n",
              "    <tr>\n",
              "      <th>dog</th>\n",
              "      <td>4.0</td>\n",
              "      <td>0</td>\n",
              "      <td>NaN</td>\n",
              "    </tr>\n",
              "    <tr>\n",
              "      <th>spider</th>\n",
              "      <td>NaN</td>\n",
              "      <td>0</td>\n",
              "      <td>1.0</td>\n",
              "    </tr>\n",
              "    <tr>\n",
              "      <th>fish</th>\n",
              "      <td>0.0</td>\n",
              "      <td>0</td>\n",
              "      <td>8.0</td>\n",
              "    </tr>\n",
              "  </tbody>\n",
              "</table>\n",
              "</div>"
            ],
            "text/plain": [
              "        num_legs  num_wings  num_specimen_seen\n",
              "falcon       2.0          2               10.0\n",
              "dog          4.0          0                NaN\n",
              "spider       NaN          0                1.0\n",
              "fish         0.0          0                8.0"
            ]
          },
          "metadata": {
            "tags": []
          },
          "execution_count": 67
        }
      ]
    },
    {
      "cell_type": "code",
      "metadata": {
        "id": "8JssQXIC9wAQ",
        "colab_type": "code",
        "colab": {
          "base_uri": "https://localhost:8080/",
          "height": 235
        },
        "outputId": "6fd7ecb5-54fd-415e-d950-00fa0843fe90"
      },
      "source": [
        "# Another sample dataframe df1 - using NumPy array with datetime index and labeled column\n",
        "df1 = pd.date_range('20130101', periods=6)\n",
        "df1 = pd.DataFrame(np.random.randn(6, 4), index=df1, columns=list('ABCD'))\n",
        "df1 # Display dataframe df1"
      ],
      "execution_count": null,
      "outputs": [
        {
          "output_type": "execute_result",
          "data": {
            "text/html": [
              "<div>\n",
              "<style scoped>\n",
              "    .dataframe tbody tr th:only-of-type {\n",
              "        vertical-align: middle;\n",
              "    }\n",
              "\n",
              "    .dataframe tbody tr th {\n",
              "        vertical-align: top;\n",
              "    }\n",
              "\n",
              "    .dataframe thead th {\n",
              "        text-align: right;\n",
              "    }\n",
              "</style>\n",
              "<table border=\"1\" class=\"dataframe\">\n",
              "  <thead>\n",
              "    <tr style=\"text-align: right;\">\n",
              "      <th></th>\n",
              "      <th>A</th>\n",
              "      <th>B</th>\n",
              "      <th>C</th>\n",
              "      <th>D</th>\n",
              "    </tr>\n",
              "  </thead>\n",
              "  <tbody>\n",
              "    <tr>\n",
              "      <th>2013-01-01</th>\n",
              "      <td>0.141792</td>\n",
              "      <td>0.420383</td>\n",
              "      <td>0.854251</td>\n",
              "      <td>-0.328859</td>\n",
              "    </tr>\n",
              "    <tr>\n",
              "      <th>2013-01-02</th>\n",
              "      <td>-0.209121</td>\n",
              "      <td>-0.412650</td>\n",
              "      <td>-0.039908</td>\n",
              "      <td>-0.863427</td>\n",
              "    </tr>\n",
              "    <tr>\n",
              "      <th>2013-01-03</th>\n",
              "      <td>1.047823</td>\n",
              "      <td>-1.963676</td>\n",
              "      <td>-0.125531</td>\n",
              "      <td>-1.981610</td>\n",
              "    </tr>\n",
              "    <tr>\n",
              "      <th>2013-01-04</th>\n",
              "      <td>-0.449944</td>\n",
              "      <td>1.788469</td>\n",
              "      <td>-1.105457</td>\n",
              "      <td>-1.305293</td>\n",
              "    </tr>\n",
              "    <tr>\n",
              "      <th>2013-01-05</th>\n",
              "      <td>-1.845580</td>\n",
              "      <td>-0.343959</td>\n",
              "      <td>0.646107</td>\n",
              "      <td>2.277370</td>\n",
              "    </tr>\n",
              "    <tr>\n",
              "      <th>2013-01-06</th>\n",
              "      <td>0.812919</td>\n",
              "      <td>-1.189728</td>\n",
              "      <td>-0.475702</td>\n",
              "      <td>-1.147537</td>\n",
              "    </tr>\n",
              "  </tbody>\n",
              "</table>\n",
              "</div>"
            ],
            "text/plain": [
              "                   A         B         C         D\n",
              "2013-01-01  0.141792  0.420383  0.854251 -0.328859\n",
              "2013-01-02 -0.209121 -0.412650 -0.039908 -0.863427\n",
              "2013-01-03  1.047823 -1.963676 -0.125531 -1.981610\n",
              "2013-01-04 -0.449944  1.788469 -1.105457 -1.305293\n",
              "2013-01-05 -1.845580 -0.343959  0.646107  2.277370\n",
              "2013-01-06  0.812919 -1.189728 -0.475702 -1.147537"
            ]
          },
          "metadata": {
            "tags": []
          },
          "execution_count": 68
        }
      ]
    },
    {
      "cell_type": "markdown",
      "metadata": {
        "id": "4_TxOA1W90Xm",
        "colab_type": "text"
      },
      "source": [
        "### Viewing data"
      ]
    },
    {
      "cell_type": "code",
      "metadata": {
        "id": "RNfxdoDN9yY1",
        "colab_type": "code",
        "colab": {}
      },
      "source": [
        "df1 = pd.date_range('20130101', periods=6)\n",
        "df1 = pd.DataFrame(np.random.randn(6, 4), index=df1, columns=list('ABCD'))"
      ],
      "execution_count": null,
      "outputs": []
    },
    {
      "cell_type": "code",
      "metadata": {
        "id": "bbqeuwBo91-3",
        "colab_type": "code",
        "colab": {
          "base_uri": "https://localhost:8080/",
          "height": 111
        },
        "outputId": "5c384b63-d216-4ce4-fcb9-978fda33bd1e"
      },
      "source": [
        "df1.head(2) # View top data"
      ],
      "execution_count": null,
      "outputs": [
        {
          "output_type": "execute_result",
          "data": {
            "text/html": [
              "<div>\n",
              "<style scoped>\n",
              "    .dataframe tbody tr th:only-of-type {\n",
              "        vertical-align: middle;\n",
              "    }\n",
              "\n",
              "    .dataframe tbody tr th {\n",
              "        vertical-align: top;\n",
              "    }\n",
              "\n",
              "    .dataframe thead th {\n",
              "        text-align: right;\n",
              "    }\n",
              "</style>\n",
              "<table border=\"1\" class=\"dataframe\">\n",
              "  <thead>\n",
              "    <tr style=\"text-align: right;\">\n",
              "      <th></th>\n",
              "      <th>A</th>\n",
              "      <th>B</th>\n",
              "      <th>C</th>\n",
              "      <th>D</th>\n",
              "    </tr>\n",
              "  </thead>\n",
              "  <tbody>\n",
              "    <tr>\n",
              "      <th>2013-01-01</th>\n",
              "      <td>-0.773099</td>\n",
              "      <td>-0.009859</td>\n",
              "      <td>-0.170378</td>\n",
              "      <td>-1.500792</td>\n",
              "    </tr>\n",
              "    <tr>\n",
              "      <th>2013-01-02</th>\n",
              "      <td>0.547718</td>\n",
              "      <td>-1.770661</td>\n",
              "      <td>-2.157727</td>\n",
              "      <td>0.317176</td>\n",
              "    </tr>\n",
              "  </tbody>\n",
              "</table>\n",
              "</div>"
            ],
            "text/plain": [
              "                   A         B         C         D\n",
              "2013-01-01 -0.773099 -0.009859 -0.170378 -1.500792\n",
              "2013-01-02  0.547718 -1.770661 -2.157727  0.317176"
            ]
          },
          "metadata": {
            "tags": []
          },
          "execution_count": 70
        }
      ]
    },
    {
      "cell_type": "code",
      "metadata": {
        "id": "tH13Ui4193Cg",
        "colab_type": "code",
        "colab": {
          "base_uri": "https://localhost:8080/",
          "height": 111
        },
        "outputId": "016ea45d-a344-4b40-a67b-c20f2d5922a8"
      },
      "source": [
        "df1.tail(2) # View bottom data"
      ],
      "execution_count": null,
      "outputs": [
        {
          "output_type": "execute_result",
          "data": {
            "text/html": [
              "<div>\n",
              "<style scoped>\n",
              "    .dataframe tbody tr th:only-of-type {\n",
              "        vertical-align: middle;\n",
              "    }\n",
              "\n",
              "    .dataframe tbody tr th {\n",
              "        vertical-align: top;\n",
              "    }\n",
              "\n",
              "    .dataframe thead th {\n",
              "        text-align: right;\n",
              "    }\n",
              "</style>\n",
              "<table border=\"1\" class=\"dataframe\">\n",
              "  <thead>\n",
              "    <tr style=\"text-align: right;\">\n",
              "      <th></th>\n",
              "      <th>A</th>\n",
              "      <th>B</th>\n",
              "      <th>C</th>\n",
              "      <th>D</th>\n",
              "    </tr>\n",
              "  </thead>\n",
              "  <tbody>\n",
              "    <tr>\n",
              "      <th>2013-01-05</th>\n",
              "      <td>0.610122</td>\n",
              "      <td>-0.711469</td>\n",
              "      <td>-0.831430</td>\n",
              "      <td>0.039558</td>\n",
              "    </tr>\n",
              "    <tr>\n",
              "      <th>2013-01-06</th>\n",
              "      <td>-0.520147</td>\n",
              "      <td>0.643163</td>\n",
              "      <td>1.977862</td>\n",
              "      <td>-0.700052</td>\n",
              "    </tr>\n",
              "  </tbody>\n",
              "</table>\n",
              "</div>"
            ],
            "text/plain": [
              "                   A         B         C         D\n",
              "2013-01-05  0.610122 -0.711469 -0.831430  0.039558\n",
              "2013-01-06 -0.520147  0.643163  1.977862 -0.700052"
            ]
          },
          "metadata": {
            "tags": []
          },
          "execution_count": 71
        }
      ]
    },
    {
      "cell_type": "code",
      "metadata": {
        "id": "3GnHg3AC94A4",
        "colab_type": "code",
        "colab": {
          "base_uri": "https://localhost:8080/",
          "height": 71
        },
        "outputId": "dcd0c839-7353-4037-8342-51d4e81f3e96"
      },
      "source": [
        "df1.index # Display index column"
      ],
      "execution_count": null,
      "outputs": [
        {
          "output_type": "execute_result",
          "data": {
            "text/plain": [
              "DatetimeIndex(['2013-01-01', '2013-01-02', '2013-01-03', '2013-01-04',\n",
              "               '2013-01-05', '2013-01-06'],\n",
              "              dtype='datetime64[ns]', freq='D')"
            ]
          },
          "metadata": {
            "tags": []
          },
          "execution_count": 72
        }
      ]
    },
    {
      "cell_type": "code",
      "metadata": {
        "id": "UhNVeo0I99xI",
        "colab_type": "code",
        "colab": {
          "base_uri": "https://localhost:8080/",
          "height": 107
        },
        "outputId": "b439a961-c3bf-4081-89b8-58fac081dcb9"
      },
      "source": [
        "df1.dtypes # Inspect datatypes"
      ],
      "execution_count": null,
      "outputs": [
        {
          "output_type": "execute_result",
          "data": {
            "text/plain": [
              "A    float64\n",
              "B    float64\n",
              "C    float64\n",
              "D    float64\n",
              "dtype: object"
            ]
          },
          "metadata": {
            "tags": []
          },
          "execution_count": 73
        }
      ]
    },
    {
      "cell_type": "code",
      "metadata": {
        "id": "gIOfQw8z-AH_",
        "colab_type": "code",
        "colab": {
          "base_uri": "https://localhost:8080/",
          "height": 297
        },
        "outputId": "c7e91f3b-82dd-4760-8d3b-ac7fe45b4c6a"
      },
      "source": [
        "df1.describe() # Display quick statistics summary of data"
      ],
      "execution_count": null,
      "outputs": [
        {
          "output_type": "execute_result",
          "data": {
            "text/html": [
              "<div>\n",
              "<style scoped>\n",
              "    .dataframe tbody tr th:only-of-type {\n",
              "        vertical-align: middle;\n",
              "    }\n",
              "\n",
              "    .dataframe tbody tr th {\n",
              "        vertical-align: top;\n",
              "    }\n",
              "\n",
              "    .dataframe thead th {\n",
              "        text-align: right;\n",
              "    }\n",
              "</style>\n",
              "<table border=\"1\" class=\"dataframe\">\n",
              "  <thead>\n",
              "    <tr style=\"text-align: right;\">\n",
              "      <th></th>\n",
              "      <th>A</th>\n",
              "      <th>B</th>\n",
              "      <th>C</th>\n",
              "      <th>D</th>\n",
              "    </tr>\n",
              "  </thead>\n",
              "  <tbody>\n",
              "    <tr>\n",
              "      <th>count</th>\n",
              "      <td>6.000000</td>\n",
              "      <td>6.000000</td>\n",
              "      <td>6.000000</td>\n",
              "      <td>6.000000</td>\n",
              "    </tr>\n",
              "    <tr>\n",
              "      <th>mean</th>\n",
              "      <td>-0.066355</td>\n",
              "      <td>-0.298435</td>\n",
              "      <td>-0.047660</td>\n",
              "      <td>-0.378885</td>\n",
              "    </tr>\n",
              "    <tr>\n",
              "      <th>std</th>\n",
              "      <td>0.556772</td>\n",
              "      <td>0.853261</td>\n",
              "      <td>1.578661</td>\n",
              "      <td>0.668938</td>\n",
              "    </tr>\n",
              "    <tr>\n",
              "      <th>min</th>\n",
              "      <td>-0.773099</td>\n",
              "      <td>-1.770661</td>\n",
              "      <td>-2.157727</td>\n",
              "      <td>-1.500792</td>\n",
              "    </tr>\n",
              "    <tr>\n",
              "      <th>25%</th>\n",
              "      <td>-0.429570</td>\n",
              "      <td>-0.586991</td>\n",
              "      <td>-0.806634</td>\n",
              "      <td>-0.649839</td>\n",
              "    </tr>\n",
              "    <tr>\n",
              "      <th>50%</th>\n",
              "      <td>-0.131361</td>\n",
              "      <td>-0.111709</td>\n",
              "      <td>-0.451313</td>\n",
              "      <td>-0.229820</td>\n",
              "    </tr>\n",
              "    <tr>\n",
              "      <th>75%</th>\n",
              "      <td>0.384568</td>\n",
              "      <td>0.201368</td>\n",
              "      <td>1.178377</td>\n",
              "      <td>0.062389</td>\n",
              "    </tr>\n",
              "    <tr>\n",
              "      <th>max</th>\n",
              "      <td>0.610122</td>\n",
              "      <td>0.643163</td>\n",
              "      <td>1.977862</td>\n",
              "      <td>0.317176</td>\n",
              "    </tr>\n",
              "  </tbody>\n",
              "</table>\n",
              "</div>"
            ],
            "text/plain": [
              "              A         B         C         D\n",
              "count  6.000000  6.000000  6.000000  6.000000\n",
              "mean  -0.066355 -0.298435 -0.047660 -0.378885\n",
              "std    0.556772  0.853261  1.578661  0.668938\n",
              "min   -0.773099 -1.770661 -2.157727 -1.500792\n",
              "25%   -0.429570 -0.586991 -0.806634 -0.649839\n",
              "50%   -0.131361 -0.111709 -0.451313 -0.229820\n",
              "75%    0.384568  0.201368  1.178377  0.062389\n",
              "max    0.610122  0.643163  1.977862  0.317176"
            ]
          },
          "metadata": {
            "tags": []
          },
          "execution_count": 74
        }
      ]
    },
    {
      "cell_type": "markdown",
      "metadata": {
        "id": "oskqG4dx-DE1",
        "colab_type": "text"
      },
      "source": [
        "### Subsetting, slicing, and indexing"
      ]
    },
    {
      "cell_type": "code",
      "metadata": {
        "id": "pE0FXZEU-BUn",
        "colab_type": "code",
        "colab": {}
      },
      "source": [
        "df1 = pd.date_range('20130101', periods=6)\n",
        "df1 = pd.DataFrame(np.random.randn(6, 4), index=df1, columns=list('ABCD'))"
      ],
      "execution_count": null,
      "outputs": []
    },
    {
      "cell_type": "code",
      "metadata": {
        "id": "Aj3lWwc5-FCY",
        "colab_type": "code",
        "colab": {
          "base_uri": "https://localhost:8080/",
          "height": 173
        },
        "outputId": "8be39665-b082-49c3-ba39-8c4ad28b685f"
      },
      "source": [
        "df1.T # Transpose data"
      ],
      "execution_count": null,
      "outputs": [
        {
          "output_type": "execute_result",
          "data": {
            "text/html": [
              "<div>\n",
              "<style scoped>\n",
              "    .dataframe tbody tr th:only-of-type {\n",
              "        vertical-align: middle;\n",
              "    }\n",
              "\n",
              "    .dataframe tbody tr th {\n",
              "        vertical-align: top;\n",
              "    }\n",
              "\n",
              "    .dataframe thead th {\n",
              "        text-align: right;\n",
              "    }\n",
              "</style>\n",
              "<table border=\"1\" class=\"dataframe\">\n",
              "  <thead>\n",
              "    <tr style=\"text-align: right;\">\n",
              "      <th></th>\n",
              "      <th>2013-01-01</th>\n",
              "      <th>2013-01-02</th>\n",
              "      <th>2013-01-03</th>\n",
              "      <th>2013-01-04</th>\n",
              "      <th>2013-01-05</th>\n",
              "      <th>2013-01-06</th>\n",
              "    </tr>\n",
              "  </thead>\n",
              "  <tbody>\n",
              "    <tr>\n",
              "      <th>A</th>\n",
              "      <td>-1.988245</td>\n",
              "      <td>-0.614271</td>\n",
              "      <td>0.406501</td>\n",
              "      <td>0.171747</td>\n",
              "      <td>-0.275539</td>\n",
              "      <td>0.785087</td>\n",
              "    </tr>\n",
              "    <tr>\n",
              "      <th>B</th>\n",
              "      <td>0.853547</td>\n",
              "      <td>-0.562273</td>\n",
              "      <td>1.186909</td>\n",
              "      <td>0.163510</td>\n",
              "      <td>-0.159201</td>\n",
              "      <td>1.610367</td>\n",
              "    </tr>\n",
              "    <tr>\n",
              "      <th>C</th>\n",
              "      <td>-0.418776</td>\n",
              "      <td>1.127771</td>\n",
              "      <td>0.349133</td>\n",
              "      <td>0.421876</td>\n",
              "      <td>0.611276</td>\n",
              "      <td>-0.444516</td>\n",
              "    </tr>\n",
              "    <tr>\n",
              "      <th>D</th>\n",
              "      <td>0.487052</td>\n",
              "      <td>-0.583676</td>\n",
              "      <td>-0.765571</td>\n",
              "      <td>-0.106997</td>\n",
              "      <td>1.924867</td>\n",
              "      <td>0.284139</td>\n",
              "    </tr>\n",
              "  </tbody>\n",
              "</table>\n",
              "</div>"
            ],
            "text/plain": [
              "   2013-01-01  2013-01-02  2013-01-03  2013-01-04  2013-01-05  2013-01-06\n",
              "A   -1.988245   -0.614271    0.406501    0.171747   -0.275539    0.785087\n",
              "B    0.853547   -0.562273    1.186909    0.163510   -0.159201    1.610367\n",
              "C   -0.418776    1.127771    0.349133    0.421876    0.611276   -0.444516\n",
              "D    0.487052   -0.583676   -0.765571   -0.106997    1.924867    0.284139"
            ]
          },
          "metadata": {
            "tags": []
          },
          "execution_count": 76
        }
      ]
    },
    {
      "cell_type": "code",
      "metadata": {
        "id": "04QGEKtO-GRR",
        "colab_type": "code",
        "colab": {
          "base_uri": "https://localhost:8080/",
          "height": 235
        },
        "outputId": "2d4f20d6-2498-450a-964e-5f1d5d98be76"
      },
      "source": [
        "df1.sort_index(axis=1, ascending=False) # Sort by an axis"
      ],
      "execution_count": null,
      "outputs": [
        {
          "output_type": "execute_result",
          "data": {
            "text/html": [
              "<div>\n",
              "<style scoped>\n",
              "    .dataframe tbody tr th:only-of-type {\n",
              "        vertical-align: middle;\n",
              "    }\n",
              "\n",
              "    .dataframe tbody tr th {\n",
              "        vertical-align: top;\n",
              "    }\n",
              "\n",
              "    .dataframe thead th {\n",
              "        text-align: right;\n",
              "    }\n",
              "</style>\n",
              "<table border=\"1\" class=\"dataframe\">\n",
              "  <thead>\n",
              "    <tr style=\"text-align: right;\">\n",
              "      <th></th>\n",
              "      <th>D</th>\n",
              "      <th>C</th>\n",
              "      <th>B</th>\n",
              "      <th>A</th>\n",
              "    </tr>\n",
              "  </thead>\n",
              "  <tbody>\n",
              "    <tr>\n",
              "      <th>2013-01-01</th>\n",
              "      <td>0.487052</td>\n",
              "      <td>-0.418776</td>\n",
              "      <td>0.853547</td>\n",
              "      <td>-1.988245</td>\n",
              "    </tr>\n",
              "    <tr>\n",
              "      <th>2013-01-02</th>\n",
              "      <td>-0.583676</td>\n",
              "      <td>1.127771</td>\n",
              "      <td>-0.562273</td>\n",
              "      <td>-0.614271</td>\n",
              "    </tr>\n",
              "    <tr>\n",
              "      <th>2013-01-03</th>\n",
              "      <td>-0.765571</td>\n",
              "      <td>0.349133</td>\n",
              "      <td>1.186909</td>\n",
              "      <td>0.406501</td>\n",
              "    </tr>\n",
              "    <tr>\n",
              "      <th>2013-01-04</th>\n",
              "      <td>-0.106997</td>\n",
              "      <td>0.421876</td>\n",
              "      <td>0.163510</td>\n",
              "      <td>0.171747</td>\n",
              "    </tr>\n",
              "    <tr>\n",
              "      <th>2013-01-05</th>\n",
              "      <td>1.924867</td>\n",
              "      <td>0.611276</td>\n",
              "      <td>-0.159201</td>\n",
              "      <td>-0.275539</td>\n",
              "    </tr>\n",
              "    <tr>\n",
              "      <th>2013-01-06</th>\n",
              "      <td>0.284139</td>\n",
              "      <td>-0.444516</td>\n",
              "      <td>1.610367</td>\n",
              "      <td>0.785087</td>\n",
              "    </tr>\n",
              "  </tbody>\n",
              "</table>\n",
              "</div>"
            ],
            "text/plain": [
              "                   D         C         B         A\n",
              "2013-01-01  0.487052 -0.418776  0.853547 -1.988245\n",
              "2013-01-02 -0.583676  1.127771 -0.562273 -0.614271\n",
              "2013-01-03 -0.765571  0.349133  1.186909  0.406501\n",
              "2013-01-04 -0.106997  0.421876  0.163510  0.171747\n",
              "2013-01-05  1.924867  0.611276 -0.159201 -0.275539\n",
              "2013-01-06  0.284139 -0.444516  1.610367  0.785087"
            ]
          },
          "metadata": {
            "tags": []
          },
          "execution_count": 77
        }
      ]
    },
    {
      "cell_type": "code",
      "metadata": {
        "id": "lkohf5c0-HUQ",
        "colab_type": "code",
        "colab": {
          "base_uri": "https://localhost:8080/",
          "height": 235
        },
        "outputId": "e3fafca6-9063-4d69-ecda-035825234373"
      },
      "source": [
        "df1.sort_values(by='B') # Sort by values"
      ],
      "execution_count": null,
      "outputs": [
        {
          "output_type": "execute_result",
          "data": {
            "text/html": [
              "<div>\n",
              "<style scoped>\n",
              "    .dataframe tbody tr th:only-of-type {\n",
              "        vertical-align: middle;\n",
              "    }\n",
              "\n",
              "    .dataframe tbody tr th {\n",
              "        vertical-align: top;\n",
              "    }\n",
              "\n",
              "    .dataframe thead th {\n",
              "        text-align: right;\n",
              "    }\n",
              "</style>\n",
              "<table border=\"1\" class=\"dataframe\">\n",
              "  <thead>\n",
              "    <tr style=\"text-align: right;\">\n",
              "      <th></th>\n",
              "      <th>A</th>\n",
              "      <th>B</th>\n",
              "      <th>C</th>\n",
              "      <th>D</th>\n",
              "    </tr>\n",
              "  </thead>\n",
              "  <tbody>\n",
              "    <tr>\n",
              "      <th>2013-01-02</th>\n",
              "      <td>-0.614271</td>\n",
              "      <td>-0.562273</td>\n",
              "      <td>1.127771</td>\n",
              "      <td>-0.583676</td>\n",
              "    </tr>\n",
              "    <tr>\n",
              "      <th>2013-01-05</th>\n",
              "      <td>-0.275539</td>\n",
              "      <td>-0.159201</td>\n",
              "      <td>0.611276</td>\n",
              "      <td>1.924867</td>\n",
              "    </tr>\n",
              "    <tr>\n",
              "      <th>2013-01-04</th>\n",
              "      <td>0.171747</td>\n",
              "      <td>0.163510</td>\n",
              "      <td>0.421876</td>\n",
              "      <td>-0.106997</td>\n",
              "    </tr>\n",
              "    <tr>\n",
              "      <th>2013-01-01</th>\n",
              "      <td>-1.988245</td>\n",
              "      <td>0.853547</td>\n",
              "      <td>-0.418776</td>\n",
              "      <td>0.487052</td>\n",
              "    </tr>\n",
              "    <tr>\n",
              "      <th>2013-01-03</th>\n",
              "      <td>0.406501</td>\n",
              "      <td>1.186909</td>\n",
              "      <td>0.349133</td>\n",
              "      <td>-0.765571</td>\n",
              "    </tr>\n",
              "    <tr>\n",
              "      <th>2013-01-06</th>\n",
              "      <td>0.785087</td>\n",
              "      <td>1.610367</td>\n",
              "      <td>-0.444516</td>\n",
              "      <td>0.284139</td>\n",
              "    </tr>\n",
              "  </tbody>\n",
              "</table>\n",
              "</div>"
            ],
            "text/plain": [
              "                   A         B         C         D\n",
              "2013-01-02 -0.614271 -0.562273  1.127771 -0.583676\n",
              "2013-01-05 -0.275539 -0.159201  0.611276  1.924867\n",
              "2013-01-04  0.171747  0.163510  0.421876 -0.106997\n",
              "2013-01-01 -1.988245  0.853547 -0.418776  0.487052\n",
              "2013-01-03  0.406501  1.186909  0.349133 -0.765571\n",
              "2013-01-06  0.785087  1.610367 -0.444516  0.284139"
            ]
          },
          "metadata": {
            "tags": []
          },
          "execution_count": 78
        }
      ]
    },
    {
      "cell_type": "code",
      "metadata": {
        "id": "7nSOLA5g-Iq4",
        "colab_type": "code",
        "colab": {
          "base_uri": "https://localhost:8080/",
          "height": 143
        },
        "outputId": "76395e19-e7e0-40ca-a633-587e2a20f817"
      },
      "source": [
        "df1['A'] # Select column A"
      ],
      "execution_count": null,
      "outputs": [
        {
          "output_type": "execute_result",
          "data": {
            "text/plain": [
              "2013-01-01   -1.988245\n",
              "2013-01-02   -0.614271\n",
              "2013-01-03    0.406501\n",
              "2013-01-04    0.171747\n",
              "2013-01-05   -0.275539\n",
              "2013-01-06    0.785087\n",
              "Freq: D, Name: A, dtype: float64"
            ]
          },
          "metadata": {
            "tags": []
          },
          "execution_count": 79
        }
      ]
    },
    {
      "cell_type": "code",
      "metadata": {
        "id": "vveAPfoX-Ju3",
        "colab_type": "code",
        "colab": {
          "base_uri": "https://localhost:8080/",
          "height": 142
        },
        "outputId": "f13d2922-a9c9-4273-91cc-c0eaa907ecd9"
      },
      "source": [
        "df1[0:3] # Select index 0 to 2"
      ],
      "execution_count": null,
      "outputs": [
        {
          "output_type": "execute_result",
          "data": {
            "text/html": [
              "<div>\n",
              "<style scoped>\n",
              "    .dataframe tbody tr th:only-of-type {\n",
              "        vertical-align: middle;\n",
              "    }\n",
              "\n",
              "    .dataframe tbody tr th {\n",
              "        vertical-align: top;\n",
              "    }\n",
              "\n",
              "    .dataframe thead th {\n",
              "        text-align: right;\n",
              "    }\n",
              "</style>\n",
              "<table border=\"1\" class=\"dataframe\">\n",
              "  <thead>\n",
              "    <tr style=\"text-align: right;\">\n",
              "      <th></th>\n",
              "      <th>A</th>\n",
              "      <th>B</th>\n",
              "      <th>C</th>\n",
              "      <th>D</th>\n",
              "    </tr>\n",
              "  </thead>\n",
              "  <tbody>\n",
              "    <tr>\n",
              "      <th>2013-01-01</th>\n",
              "      <td>-1.988245</td>\n",
              "      <td>0.853547</td>\n",
              "      <td>-0.418776</td>\n",
              "      <td>0.487052</td>\n",
              "    </tr>\n",
              "    <tr>\n",
              "      <th>2013-01-02</th>\n",
              "      <td>-0.614271</td>\n",
              "      <td>-0.562273</td>\n",
              "      <td>1.127771</td>\n",
              "      <td>-0.583676</td>\n",
              "    </tr>\n",
              "    <tr>\n",
              "      <th>2013-01-03</th>\n",
              "      <td>0.406501</td>\n",
              "      <td>1.186909</td>\n",
              "      <td>0.349133</td>\n",
              "      <td>-0.765571</td>\n",
              "    </tr>\n",
              "  </tbody>\n",
              "</table>\n",
              "</div>"
            ],
            "text/plain": [
              "                   A         B         C         D\n",
              "2013-01-01 -1.988245  0.853547 -0.418776  0.487052\n",
              "2013-01-02 -0.614271 -0.562273  1.127771 -0.583676\n",
              "2013-01-03  0.406501  1.186909  0.349133 -0.765571"
            ]
          },
          "metadata": {
            "tags": []
          },
          "execution_count": 80
        }
      ]
    },
    {
      "cell_type": "code",
      "metadata": {
        "id": "osQcJYcD-K7L",
        "colab_type": "code",
        "colab": {
          "base_uri": "https://localhost:8080/",
          "height": 142
        },
        "outputId": "0f60dd0c-767d-4196-ac65-7ccb50b058b5"
      },
      "source": [
        "df1['20130102':'20130104'] # Select from index matching the values"
      ],
      "execution_count": null,
      "outputs": [
        {
          "output_type": "execute_result",
          "data": {
            "text/html": [
              "<div>\n",
              "<style scoped>\n",
              "    .dataframe tbody tr th:only-of-type {\n",
              "        vertical-align: middle;\n",
              "    }\n",
              "\n",
              "    .dataframe tbody tr th {\n",
              "        vertical-align: top;\n",
              "    }\n",
              "\n",
              "    .dataframe thead th {\n",
              "        text-align: right;\n",
              "    }\n",
              "</style>\n",
              "<table border=\"1\" class=\"dataframe\">\n",
              "  <thead>\n",
              "    <tr style=\"text-align: right;\">\n",
              "      <th></th>\n",
              "      <th>A</th>\n",
              "      <th>B</th>\n",
              "      <th>C</th>\n",
              "      <th>D</th>\n",
              "    </tr>\n",
              "  </thead>\n",
              "  <tbody>\n",
              "    <tr>\n",
              "      <th>2013-01-02</th>\n",
              "      <td>-0.614271</td>\n",
              "      <td>-0.562273</td>\n",
              "      <td>1.127771</td>\n",
              "      <td>-0.583676</td>\n",
              "    </tr>\n",
              "    <tr>\n",
              "      <th>2013-01-03</th>\n",
              "      <td>0.406501</td>\n",
              "      <td>1.186909</td>\n",
              "      <td>0.349133</td>\n",
              "      <td>-0.765571</td>\n",
              "    </tr>\n",
              "    <tr>\n",
              "      <th>2013-01-04</th>\n",
              "      <td>0.171747</td>\n",
              "      <td>0.163510</td>\n",
              "      <td>0.421876</td>\n",
              "      <td>-0.106997</td>\n",
              "    </tr>\n",
              "  </tbody>\n",
              "</table>\n",
              "</div>"
            ],
            "text/plain": [
              "                   A         B         C         D\n",
              "2013-01-02 -0.614271 -0.562273  1.127771 -0.583676\n",
              "2013-01-03  0.406501  1.186909  0.349133 -0.765571\n",
              "2013-01-04  0.171747  0.163510  0.421876 -0.106997"
            ]
          },
          "metadata": {
            "tags": []
          },
          "execution_count": 81
        }
      ]
    },
    {
      "cell_type": "code",
      "metadata": {
        "id": "TNLirUEJ-Mcw",
        "colab_type": "code",
        "colab": {
          "base_uri": "https://localhost:8080/",
          "height": 235
        },
        "outputId": "6eb9d111-451d-40f6-9e90-909a07649ef4"
      },
      "source": [
        "df1.loc[:, ['A', 'B']] # Select on a multi-axis by label"
      ],
      "execution_count": null,
      "outputs": [
        {
          "output_type": "execute_result",
          "data": {
            "text/html": [
              "<div>\n",
              "<style scoped>\n",
              "    .dataframe tbody tr th:only-of-type {\n",
              "        vertical-align: middle;\n",
              "    }\n",
              "\n",
              "    .dataframe tbody tr th {\n",
              "        vertical-align: top;\n",
              "    }\n",
              "\n",
              "    .dataframe thead th {\n",
              "        text-align: right;\n",
              "    }\n",
              "</style>\n",
              "<table border=\"1\" class=\"dataframe\">\n",
              "  <thead>\n",
              "    <tr style=\"text-align: right;\">\n",
              "      <th></th>\n",
              "      <th>A</th>\n",
              "      <th>B</th>\n",
              "    </tr>\n",
              "  </thead>\n",
              "  <tbody>\n",
              "    <tr>\n",
              "      <th>2013-01-01</th>\n",
              "      <td>-1.988245</td>\n",
              "      <td>0.853547</td>\n",
              "    </tr>\n",
              "    <tr>\n",
              "      <th>2013-01-02</th>\n",
              "      <td>-0.614271</td>\n",
              "      <td>-0.562273</td>\n",
              "    </tr>\n",
              "    <tr>\n",
              "      <th>2013-01-03</th>\n",
              "      <td>0.406501</td>\n",
              "      <td>1.186909</td>\n",
              "    </tr>\n",
              "    <tr>\n",
              "      <th>2013-01-04</th>\n",
              "      <td>0.171747</td>\n",
              "      <td>0.163510</td>\n",
              "    </tr>\n",
              "    <tr>\n",
              "      <th>2013-01-05</th>\n",
              "      <td>-0.275539</td>\n",
              "      <td>-0.159201</td>\n",
              "    </tr>\n",
              "    <tr>\n",
              "      <th>2013-01-06</th>\n",
              "      <td>0.785087</td>\n",
              "      <td>1.610367</td>\n",
              "    </tr>\n",
              "  </tbody>\n",
              "</table>\n",
              "</div>"
            ],
            "text/plain": [
              "                   A         B\n",
              "2013-01-01 -1.988245  0.853547\n",
              "2013-01-02 -0.614271 -0.562273\n",
              "2013-01-03  0.406501  1.186909\n",
              "2013-01-04  0.171747  0.163510\n",
              "2013-01-05 -0.275539 -0.159201\n",
              "2013-01-06  0.785087  1.610367"
            ]
          },
          "metadata": {
            "tags": []
          },
          "execution_count": 82
        }
      ]
    },
    {
      "cell_type": "code",
      "metadata": {
        "id": "K-WuGU3N-NqR",
        "colab_type": "code",
        "colab": {
          "base_uri": "https://localhost:8080/",
          "height": 107
        },
        "outputId": "eff3c81f-b99b-42ce-dc91-bab3fc8061dc"
      },
      "source": [
        "df1.iloc[3] # Select via the position of the passed integers"
      ],
      "execution_count": null,
      "outputs": [
        {
          "output_type": "execute_result",
          "data": {
            "text/plain": [
              "A    0.171747\n",
              "B    0.163510\n",
              "C    0.421876\n",
              "D   -0.106997\n",
              "Name: 2013-01-04 00:00:00, dtype: float64"
            ]
          },
          "metadata": {
            "tags": []
          },
          "execution_count": 83
        }
      ]
    },
    {
      "cell_type": "code",
      "metadata": {
        "id": "KjiavQ8i-O6Z",
        "colab_type": "code",
        "colab": {
          "base_uri": "https://localhost:8080/",
          "height": 235
        },
        "outputId": "6a4f8cf1-996c-4eb4-a6e5-09a12e8ad0ea"
      },
      "source": [
        "df1[df1 > 0] # Select values from a DataFrame where a boolean condition is met"
      ],
      "execution_count": null,
      "outputs": [
        {
          "output_type": "execute_result",
          "data": {
            "text/html": [
              "<div>\n",
              "<style scoped>\n",
              "    .dataframe tbody tr th:only-of-type {\n",
              "        vertical-align: middle;\n",
              "    }\n",
              "\n",
              "    .dataframe tbody tr th {\n",
              "        vertical-align: top;\n",
              "    }\n",
              "\n",
              "    .dataframe thead th {\n",
              "        text-align: right;\n",
              "    }\n",
              "</style>\n",
              "<table border=\"1\" class=\"dataframe\">\n",
              "  <thead>\n",
              "    <tr style=\"text-align: right;\">\n",
              "      <th></th>\n",
              "      <th>A</th>\n",
              "      <th>B</th>\n",
              "      <th>C</th>\n",
              "      <th>D</th>\n",
              "    </tr>\n",
              "  </thead>\n",
              "  <tbody>\n",
              "    <tr>\n",
              "      <th>2013-01-01</th>\n",
              "      <td>NaN</td>\n",
              "      <td>0.853547</td>\n",
              "      <td>NaN</td>\n",
              "      <td>0.487052</td>\n",
              "    </tr>\n",
              "    <tr>\n",
              "      <th>2013-01-02</th>\n",
              "      <td>NaN</td>\n",
              "      <td>NaN</td>\n",
              "      <td>1.127771</td>\n",
              "      <td>NaN</td>\n",
              "    </tr>\n",
              "    <tr>\n",
              "      <th>2013-01-03</th>\n",
              "      <td>0.406501</td>\n",
              "      <td>1.186909</td>\n",
              "      <td>0.349133</td>\n",
              "      <td>NaN</td>\n",
              "    </tr>\n",
              "    <tr>\n",
              "      <th>2013-01-04</th>\n",
              "      <td>0.171747</td>\n",
              "      <td>0.163510</td>\n",
              "      <td>0.421876</td>\n",
              "      <td>NaN</td>\n",
              "    </tr>\n",
              "    <tr>\n",
              "      <th>2013-01-05</th>\n",
              "      <td>NaN</td>\n",
              "      <td>NaN</td>\n",
              "      <td>0.611276</td>\n",
              "      <td>1.924867</td>\n",
              "    </tr>\n",
              "    <tr>\n",
              "      <th>2013-01-06</th>\n",
              "      <td>0.785087</td>\n",
              "      <td>1.610367</td>\n",
              "      <td>NaN</td>\n",
              "      <td>0.284139</td>\n",
              "    </tr>\n",
              "  </tbody>\n",
              "</table>\n",
              "</div>"
            ],
            "text/plain": [
              "                   A         B         C         D\n",
              "2013-01-01       NaN  0.853547       NaN  0.487052\n",
              "2013-01-02       NaN       NaN  1.127771       NaN\n",
              "2013-01-03  0.406501  1.186909  0.349133       NaN\n",
              "2013-01-04  0.171747  0.163510  0.421876       NaN\n",
              "2013-01-05       NaN       NaN  0.611276  1.924867\n",
              "2013-01-06  0.785087  1.610367       NaN  0.284139"
            ]
          },
          "metadata": {
            "tags": []
          },
          "execution_count": 84
        }
      ]
    },
    {
      "cell_type": "code",
      "metadata": {
        "id": "P6IGyeC_-QD5",
        "colab_type": "code",
        "colab": {
          "base_uri": "https://localhost:8080/",
          "height": 111
        },
        "outputId": "2c84218e-738e-4818-c136-2c2cd9c8a28d"
      },
      "source": [
        "df2 = df1.copy() # Copy the df1 dataset to df2\n",
        "df2['E'] = ['one', 'one', 'two', 'three', 'four', 'three'] # Add column E with value\n",
        "df2[df2['E'].isin(['two', 'four'])] # Use isin method for filtering"
      ],
      "execution_count": null,
      "outputs": [
        {
          "output_type": "execute_result",
          "data": {
            "text/html": [
              "<div>\n",
              "<style scoped>\n",
              "    .dataframe tbody tr th:only-of-type {\n",
              "        vertical-align: middle;\n",
              "    }\n",
              "\n",
              "    .dataframe tbody tr th {\n",
              "        vertical-align: top;\n",
              "    }\n",
              "\n",
              "    .dataframe thead th {\n",
              "        text-align: right;\n",
              "    }\n",
              "</style>\n",
              "<table border=\"1\" class=\"dataframe\">\n",
              "  <thead>\n",
              "    <tr style=\"text-align: right;\">\n",
              "      <th></th>\n",
              "      <th>A</th>\n",
              "      <th>B</th>\n",
              "      <th>C</th>\n",
              "      <th>D</th>\n",
              "      <th>E</th>\n",
              "    </tr>\n",
              "  </thead>\n",
              "  <tbody>\n",
              "    <tr>\n",
              "      <th>2013-01-03</th>\n",
              "      <td>0.406501</td>\n",
              "      <td>1.186909</td>\n",
              "      <td>0.349133</td>\n",
              "      <td>-0.765571</td>\n",
              "      <td>two</td>\n",
              "    </tr>\n",
              "    <tr>\n",
              "      <th>2013-01-05</th>\n",
              "      <td>-0.275539</td>\n",
              "      <td>-0.159201</td>\n",
              "      <td>0.611276</td>\n",
              "      <td>1.924867</td>\n",
              "      <td>four</td>\n",
              "    </tr>\n",
              "  </tbody>\n",
              "</table>\n",
              "</div>"
            ],
            "text/plain": [
              "                   A         B         C         D     E\n",
              "2013-01-03  0.406501  1.186909  0.349133 -0.765571   two\n",
              "2013-01-05 -0.275539 -0.159201  0.611276  1.924867  four"
            ]
          },
          "metadata": {
            "tags": []
          },
          "execution_count": 85
        }
      ]
    },
    {
      "cell_type": "markdown",
      "metadata": {
        "id": "sbb2L9MM-SmD",
        "colab_type": "text"
      },
      "source": [
        "### Missing data\n",
        "\n",
        "Pandas primarily uses the value `np.nan` to represent missing data. It is not included in computations by default."
      ]
    },
    {
      "cell_type": "code",
      "metadata": {
        "id": "VxsgXUww-Q-H",
        "colab_type": "code",
        "colab": {}
      },
      "source": [
        "df = pd.DataFrame({'num_legs': [2, 4, np.nan, 0],\n",
        "                   'num_wings': [2, 0, 0, 0],\n",
        "                   'num_specimen_seen': [10, np.nan, 1, 8]},\n",
        "                   index=['falcon', 'dog', 'spider', 'fish'])"
      ],
      "execution_count": null,
      "outputs": []
    },
    {
      "cell_type": "code",
      "metadata": {
        "id": "rH3C_rPn-UPI",
        "colab_type": "code",
        "colab": {
          "base_uri": "https://localhost:8080/",
          "height": 111
        },
        "outputId": "c0f2132e-f371-4c16-8399-3b2ed8b36b93"
      },
      "source": [
        "df.dropna(how='any') # Drop any rows that have missing data"
      ],
      "execution_count": null,
      "outputs": [
        {
          "output_type": "execute_result",
          "data": {
            "text/html": [
              "<div>\n",
              "<style scoped>\n",
              "    .dataframe tbody tr th:only-of-type {\n",
              "        vertical-align: middle;\n",
              "    }\n",
              "\n",
              "    .dataframe tbody tr th {\n",
              "        vertical-align: top;\n",
              "    }\n",
              "\n",
              "    .dataframe thead th {\n",
              "        text-align: right;\n",
              "    }\n",
              "</style>\n",
              "<table border=\"1\" class=\"dataframe\">\n",
              "  <thead>\n",
              "    <tr style=\"text-align: right;\">\n",
              "      <th></th>\n",
              "      <th>num_legs</th>\n",
              "      <th>num_wings</th>\n",
              "      <th>num_specimen_seen</th>\n",
              "    </tr>\n",
              "  </thead>\n",
              "  <tbody>\n",
              "    <tr>\n",
              "      <th>falcon</th>\n",
              "      <td>2.0</td>\n",
              "      <td>2</td>\n",
              "      <td>10.0</td>\n",
              "    </tr>\n",
              "    <tr>\n",
              "      <th>fish</th>\n",
              "      <td>0.0</td>\n",
              "      <td>0</td>\n",
              "      <td>8.0</td>\n",
              "    </tr>\n",
              "  </tbody>\n",
              "</table>\n",
              "</div>"
            ],
            "text/plain": [
              "        num_legs  num_wings  num_specimen_seen\n",
              "falcon       2.0          2               10.0\n",
              "fish         0.0          0                8.0"
            ]
          },
          "metadata": {
            "tags": []
          },
          "execution_count": 87
        }
      ]
    },
    {
      "cell_type": "code",
      "metadata": {
        "id": "hGAjGcie-Vhn",
        "colab_type": "code",
        "colab": {
          "base_uri": "https://localhost:8080/",
          "height": 173
        },
        "outputId": "5a2ce0b5-b510-407d-e666-2e596715608c"
      },
      "source": [
        "df.dropna(how='any', axis=1) # Drop any columns that have missing data"
      ],
      "execution_count": null,
      "outputs": [
        {
          "output_type": "execute_result",
          "data": {
            "text/html": [
              "<div>\n",
              "<style scoped>\n",
              "    .dataframe tbody tr th:only-of-type {\n",
              "        vertical-align: middle;\n",
              "    }\n",
              "\n",
              "    .dataframe tbody tr th {\n",
              "        vertical-align: top;\n",
              "    }\n",
              "\n",
              "    .dataframe thead th {\n",
              "        text-align: right;\n",
              "    }\n",
              "</style>\n",
              "<table border=\"1\" class=\"dataframe\">\n",
              "  <thead>\n",
              "    <tr style=\"text-align: right;\">\n",
              "      <th></th>\n",
              "      <th>num_wings</th>\n",
              "    </tr>\n",
              "  </thead>\n",
              "  <tbody>\n",
              "    <tr>\n",
              "      <th>falcon</th>\n",
              "      <td>2</td>\n",
              "    </tr>\n",
              "    <tr>\n",
              "      <th>dog</th>\n",
              "      <td>0</td>\n",
              "    </tr>\n",
              "    <tr>\n",
              "      <th>spider</th>\n",
              "      <td>0</td>\n",
              "    </tr>\n",
              "    <tr>\n",
              "      <th>fish</th>\n",
              "      <td>0</td>\n",
              "    </tr>\n",
              "  </tbody>\n",
              "</table>\n",
              "</div>"
            ],
            "text/plain": [
              "        num_wings\n",
              "falcon          2\n",
              "dog             0\n",
              "spider          0\n",
              "fish            0"
            ]
          },
          "metadata": {
            "tags": []
          },
          "execution_count": 88
        }
      ]
    },
    {
      "cell_type": "code",
      "metadata": {
        "id": "Ytq7AyzY-WnQ",
        "colab_type": "code",
        "colab": {
          "base_uri": "https://localhost:8080/",
          "height": 173
        },
        "outputId": "6fd58a1b-c232-46fd-c0de-5cb56171fe88"
      },
      "source": [
        "df.fillna(value=5) # Fill missing data with value 5"
      ],
      "execution_count": null,
      "outputs": [
        {
          "output_type": "execute_result",
          "data": {
            "text/html": [
              "<div>\n",
              "<style scoped>\n",
              "    .dataframe tbody tr th:only-of-type {\n",
              "        vertical-align: middle;\n",
              "    }\n",
              "\n",
              "    .dataframe tbody tr th {\n",
              "        vertical-align: top;\n",
              "    }\n",
              "\n",
              "    .dataframe thead th {\n",
              "        text-align: right;\n",
              "    }\n",
              "</style>\n",
              "<table border=\"1\" class=\"dataframe\">\n",
              "  <thead>\n",
              "    <tr style=\"text-align: right;\">\n",
              "      <th></th>\n",
              "      <th>num_legs</th>\n",
              "      <th>num_wings</th>\n",
              "      <th>num_specimen_seen</th>\n",
              "    </tr>\n",
              "  </thead>\n",
              "  <tbody>\n",
              "    <tr>\n",
              "      <th>falcon</th>\n",
              "      <td>2.0</td>\n",
              "      <td>2</td>\n",
              "      <td>10.0</td>\n",
              "    </tr>\n",
              "    <tr>\n",
              "      <th>dog</th>\n",
              "      <td>4.0</td>\n",
              "      <td>0</td>\n",
              "      <td>5.0</td>\n",
              "    </tr>\n",
              "    <tr>\n",
              "      <th>spider</th>\n",
              "      <td>5.0</td>\n",
              "      <td>0</td>\n",
              "      <td>1.0</td>\n",
              "    </tr>\n",
              "    <tr>\n",
              "      <th>fish</th>\n",
              "      <td>0.0</td>\n",
              "      <td>0</td>\n",
              "      <td>8.0</td>\n",
              "    </tr>\n",
              "  </tbody>\n",
              "</table>\n",
              "</div>"
            ],
            "text/plain": [
              "        num_legs  num_wings  num_specimen_seen\n",
              "falcon       2.0          2               10.0\n",
              "dog          4.0          0                5.0\n",
              "spider       5.0          0                1.0\n",
              "fish         0.0          0                8.0"
            ]
          },
          "metadata": {
            "tags": []
          },
          "execution_count": 89
        }
      ]
    },
    {
      "cell_type": "code",
      "metadata": {
        "id": "GjOV365b-YOw",
        "colab_type": "code",
        "colab": {
          "base_uri": "https://localhost:8080/",
          "height": 173
        },
        "outputId": "76407568-d5bd-4cf6-b1d9-dceb5261bbf3"
      },
      "source": [
        "pd.isna(df) # To get boolean mask where data is missing"
      ],
      "execution_count": null,
      "outputs": [
        {
          "output_type": "execute_result",
          "data": {
            "text/html": [
              "<div>\n",
              "<style scoped>\n",
              "    .dataframe tbody tr th:only-of-type {\n",
              "        vertical-align: middle;\n",
              "    }\n",
              "\n",
              "    .dataframe tbody tr th {\n",
              "        vertical-align: top;\n",
              "    }\n",
              "\n",
              "    .dataframe thead th {\n",
              "        text-align: right;\n",
              "    }\n",
              "</style>\n",
              "<table border=\"1\" class=\"dataframe\">\n",
              "  <thead>\n",
              "    <tr style=\"text-align: right;\">\n",
              "      <th></th>\n",
              "      <th>num_legs</th>\n",
              "      <th>num_wings</th>\n",
              "      <th>num_specimen_seen</th>\n",
              "    </tr>\n",
              "  </thead>\n",
              "  <tbody>\n",
              "    <tr>\n",
              "      <th>falcon</th>\n",
              "      <td>False</td>\n",
              "      <td>False</td>\n",
              "      <td>False</td>\n",
              "    </tr>\n",
              "    <tr>\n",
              "      <th>dog</th>\n",
              "      <td>False</td>\n",
              "      <td>False</td>\n",
              "      <td>True</td>\n",
              "    </tr>\n",
              "    <tr>\n",
              "      <th>spider</th>\n",
              "      <td>True</td>\n",
              "      <td>False</td>\n",
              "      <td>False</td>\n",
              "    </tr>\n",
              "    <tr>\n",
              "      <th>fish</th>\n",
              "      <td>False</td>\n",
              "      <td>False</td>\n",
              "      <td>False</td>\n",
              "    </tr>\n",
              "  </tbody>\n",
              "</table>\n",
              "</div>"
            ],
            "text/plain": [
              "        num_legs  num_wings  num_specimen_seen\n",
              "falcon     False      False              False\n",
              "dog        False      False               True\n",
              "spider      True      False              False\n",
              "fish       False      False              False"
            ]
          },
          "metadata": {
            "tags": []
          },
          "execution_count": 90
        }
      ]
    },
    {
      "cell_type": "markdown",
      "metadata": {
        "id": "XSnBmSpc-awo",
        "colab_type": "text"
      },
      "source": [
        "### File handling"
      ]
    },
    {
      "cell_type": "code",
      "metadata": {
        "id": "SWytZaM8-ZLv",
        "colab_type": "code",
        "colab": {}
      },
      "source": [
        "df = pd.DataFrame({'num_legs': [2, 4, np.nan, 0],\n",
        "                   'num_wings': [2, 0, 0, 0],\n",
        "                   'num_specimen_seen': [10, np.nan, 1, 8]},\n",
        "                   index=['falcon', 'dog', 'spider', 'fish'])"
      ],
      "execution_count": null,
      "outputs": []
    },
    {
      "cell_type": "code",
      "metadata": {
        "id": "4YUe4NQx-cSs",
        "colab_type": "code",
        "colab": {}
      },
      "source": [
        "df.to_csv('foo.csv') # Write to CSV file"
      ],
      "execution_count": null,
      "outputs": []
    },
    {
      "cell_type": "code",
      "metadata": {
        "id": "Br9puS3E-dbn",
        "colab_type": "code",
        "colab": {
          "base_uri": "https://localhost:8080/",
          "height": 173
        },
        "outputId": "240c2bbf-6974-434c-f9dd-0f9e5db0f960"
      },
      "source": [
        "pd.read_csv('foo.csv') # Read from CSV file"
      ],
      "execution_count": null,
      "outputs": [
        {
          "output_type": "execute_result",
          "data": {
            "text/html": [
              "<div>\n",
              "<style scoped>\n",
              "    .dataframe tbody tr th:only-of-type {\n",
              "        vertical-align: middle;\n",
              "    }\n",
              "\n",
              "    .dataframe tbody tr th {\n",
              "        vertical-align: top;\n",
              "    }\n",
              "\n",
              "    .dataframe thead th {\n",
              "        text-align: right;\n",
              "    }\n",
              "</style>\n",
              "<table border=\"1\" class=\"dataframe\">\n",
              "  <thead>\n",
              "    <tr style=\"text-align: right;\">\n",
              "      <th></th>\n",
              "      <th>Unnamed: 0</th>\n",
              "      <th>num_legs</th>\n",
              "      <th>num_wings</th>\n",
              "      <th>num_specimen_seen</th>\n",
              "    </tr>\n",
              "  </thead>\n",
              "  <tbody>\n",
              "    <tr>\n",
              "      <th>0</th>\n",
              "      <td>falcon</td>\n",
              "      <td>2.0</td>\n",
              "      <td>2</td>\n",
              "      <td>10.0</td>\n",
              "    </tr>\n",
              "    <tr>\n",
              "      <th>1</th>\n",
              "      <td>dog</td>\n",
              "      <td>4.0</td>\n",
              "      <td>0</td>\n",
              "      <td>NaN</td>\n",
              "    </tr>\n",
              "    <tr>\n",
              "      <th>2</th>\n",
              "      <td>spider</td>\n",
              "      <td>NaN</td>\n",
              "      <td>0</td>\n",
              "      <td>1.0</td>\n",
              "    </tr>\n",
              "    <tr>\n",
              "      <th>3</th>\n",
              "      <td>fish</td>\n",
              "      <td>0.0</td>\n",
              "      <td>0</td>\n",
              "      <td>8.0</td>\n",
              "    </tr>\n",
              "  </tbody>\n",
              "</table>\n",
              "</div>"
            ],
            "text/plain": [
              "  Unnamed: 0  num_legs  num_wings  num_specimen_seen\n",
              "0     falcon       2.0          2               10.0\n",
              "1        dog       4.0          0                NaN\n",
              "2     spider       NaN          0                1.0\n",
              "3       fish       0.0          0                8.0"
            ]
          },
          "metadata": {
            "tags": []
          },
          "execution_count": 93
        }
      ]
    },
    {
      "cell_type": "code",
      "metadata": {
        "id": "yraLGeIW-ehh",
        "colab_type": "code",
        "colab": {}
      },
      "source": [
        "df.to_excel('foo.xlsx', sheet_name='Sheet1') # Write to Microsoft Excel file"
      ],
      "execution_count": null,
      "outputs": []
    },
    {
      "cell_type": "code",
      "metadata": {
        "id": "uVFo2VJQ-g2P",
        "colab_type": "code",
        "colab": {
          "base_uri": "https://localhost:8080/",
          "height": 173
        },
        "outputId": "778f1a27-9a5a-4820-8f84-cb080d98015f"
      },
      "source": [
        "pd.read_excel('foo.xlsx', 'Sheet1', index_col=None, na_values=['NA']) # Read from Microsoft Excel file"
      ],
      "execution_count": null,
      "outputs": [
        {
          "output_type": "execute_result",
          "data": {
            "text/html": [
              "<div>\n",
              "<style scoped>\n",
              "    .dataframe tbody tr th:only-of-type {\n",
              "        vertical-align: middle;\n",
              "    }\n",
              "\n",
              "    .dataframe tbody tr th {\n",
              "        vertical-align: top;\n",
              "    }\n",
              "\n",
              "    .dataframe thead th {\n",
              "        text-align: right;\n",
              "    }\n",
              "</style>\n",
              "<table border=\"1\" class=\"dataframe\">\n",
              "  <thead>\n",
              "    <tr style=\"text-align: right;\">\n",
              "      <th></th>\n",
              "      <th>Unnamed: 0</th>\n",
              "      <th>num_legs</th>\n",
              "      <th>num_wings</th>\n",
              "      <th>num_specimen_seen</th>\n",
              "    </tr>\n",
              "  </thead>\n",
              "  <tbody>\n",
              "    <tr>\n",
              "      <th>0</th>\n",
              "      <td>falcon</td>\n",
              "      <td>2.0</td>\n",
              "      <td>2</td>\n",
              "      <td>10.0</td>\n",
              "    </tr>\n",
              "    <tr>\n",
              "      <th>1</th>\n",
              "      <td>dog</td>\n",
              "      <td>4.0</td>\n",
              "      <td>0</td>\n",
              "      <td>NaN</td>\n",
              "    </tr>\n",
              "    <tr>\n",
              "      <th>2</th>\n",
              "      <td>spider</td>\n",
              "      <td>NaN</td>\n",
              "      <td>0</td>\n",
              "      <td>1.0</td>\n",
              "    </tr>\n",
              "    <tr>\n",
              "      <th>3</th>\n",
              "      <td>fish</td>\n",
              "      <td>0.0</td>\n",
              "      <td>0</td>\n",
              "      <td>8.0</td>\n",
              "    </tr>\n",
              "  </tbody>\n",
              "</table>\n",
              "</div>"
            ],
            "text/plain": [
              "  Unnamed: 0  num_legs  num_wings  num_specimen_seen\n",
              "0     falcon       2.0          2               10.0\n",
              "1        dog       4.0          0                NaN\n",
              "2     spider       NaN          0                1.0\n",
              "3       fish       0.0          0                8.0"
            ]
          },
          "metadata": {
            "tags": []
          },
          "execution_count": 95
        }
      ]
    },
    {
      "cell_type": "markdown",
      "metadata": {
        "id": "tMyWq6jR-ksE",
        "colab_type": "text"
      },
      "source": [
        "### Plotting"
      ]
    },
    {
      "cell_type": "code",
      "metadata": {
        "id": "VOVAYzbU-lQH",
        "colab_type": "code",
        "colab": {
          "base_uri": "https://localhost:8080/",
          "height": 143
        },
        "outputId": "2a9521df-c43f-4a36-8162-8199cedffb3e"
      },
      "source": [
        "# Install Matplotlib using pip\n",
        "!pip install matplotlib"
      ],
      "execution_count": null,
      "outputs": [
        {
          "output_type": "stream",
          "text": [
            "Requirement already satisfied: matplotlib in /usr/local/lib/python3.6/dist-packages (3.2.2)\n",
            "Requirement already satisfied: python-dateutil>=2.1 in /usr/local/lib/python3.6/dist-packages (from matplotlib) (2.8.1)\n",
            "Requirement already satisfied: cycler>=0.10 in /usr/local/lib/python3.6/dist-packages (from matplotlib) (0.10.0)\n",
            "Requirement already satisfied: pyparsing!=2.0.4,!=2.1.2,!=2.1.6,>=2.0.1 in /usr/local/lib/python3.6/dist-packages (from matplotlib) (2.4.7)\n",
            "Requirement already satisfied: numpy>=1.11 in /usr/local/lib/python3.6/dist-packages (from matplotlib) (1.18.5)\n",
            "Requirement already satisfied: kiwisolver>=1.0.1 in /usr/local/lib/python3.6/dist-packages (from matplotlib) (1.2.0)\n",
            "Requirement already satisfied: six>=1.5 in /usr/local/lib/python3.6/dist-packages (from python-dateutil>=2.1->matplotlib) (1.15.0)\n"
          ],
          "name": "stdout"
        }
      ]
    },
    {
      "cell_type": "code",
      "metadata": {
        "id": "EJpMQ3C2-oUi",
        "colab_type": "code",
        "colab": {}
      },
      "source": [
        "from matplotlib import pyplot as plt # Import Matplotlib module"
      ],
      "execution_count": null,
      "outputs": []
    },
    {
      "cell_type": "code",
      "metadata": {
        "id": "D6WtwuXU-op3",
        "colab_type": "code",
        "colab": {
          "base_uri": "https://localhost:8080/",
          "height": 125
        },
        "outputId": "e7fb2bcc-e4fa-4101-ef08-c511c8699902"
      },
      "source": [
        "# Generate random time-series data\n",
        "ts = pd.Series(np.random.randn(1000),index=pd.date_range('1/1/2000', periods=1000)) \n",
        "ts.head()"
      ],
      "execution_count": null,
      "outputs": [
        {
          "output_type": "execute_result",
          "data": {
            "text/plain": [
              "2000-01-01    0.204348\n",
              "2000-01-02   -0.142958\n",
              "2000-01-03    1.134106\n",
              "2000-01-04   -0.182453\n",
              "2000-01-05    0.513157\n",
              "Freq: D, dtype: float64"
            ]
          },
          "metadata": {
            "tags": []
          },
          "execution_count": 98
        }
      ]
    },
    {
      "cell_type": "code",
      "metadata": {
        "id": "j1imBIp9-rWu",
        "colab_type": "code",
        "colab": {
          "base_uri": "https://localhost:8080/",
          "height": 277
        },
        "outputId": "e83c93f0-3818-4828-89ad-56aae4fd69fa"
      },
      "source": [
        "ts = ts.cumsum()\n",
        "ts.plot() # Plot graph\n",
        "plt.show()"
      ],
      "execution_count": null,
      "outputs": [
        {
          "output_type": "display_data",
          "data": {
            "image/png": "[encoded data removed]",
            "text/plain": [
              "<Figure size 432x288 with 1 Axes>"
            ]
          },
          "metadata": {
            "tags": [],
            "needs_background": "light"
          }
        }
      ]
    },
    {
      "cell_type": "code",
      "metadata": {
        "id": "b07dH7bc-tH-",
        "colab_type": "code",
        "colab": {
          "base_uri": "https://localhost:8080/",
          "height": 204
        },
        "outputId": "0c8ae3d8-e7fd-4bc3-8609-dc9e74e542b9"
      },
      "source": [
        "# On a DataFrame, the plot() method is convenient to plot all of the columns with labels\n",
        "df4 = pd.DataFrame(np.random.randn(1000, 4), index=ts.index,columns=['A', 'B', 'C', 'D'])\n",
        "df4 = df4.cumsum()\n",
        "df4.head()"
      ],
      "execution_count": null,
      "outputs": [
        {
          "output_type": "execute_result",
          "data": {
            "text/html": [
              "<div>\n",
              "<style scoped>\n",
              "    .dataframe tbody tr th:only-of-type {\n",
              "        vertical-align: middle;\n",
              "    }\n",
              "\n",
              "    .dataframe tbody tr th {\n",
              "        vertical-align: top;\n",
              "    }\n",
              "\n",
              "    .dataframe thead th {\n",
              "        text-align: right;\n",
              "    }\n",
              "</style>\n",
              "<table border=\"1\" class=\"dataframe\">\n",
              "  <thead>\n",
              "    <tr style=\"text-align: right;\">\n",
              "      <th></th>\n",
              "      <th>A</th>\n",
              "      <th>B</th>\n",
              "      <th>C</th>\n",
              "      <th>D</th>\n",
              "    </tr>\n",
              "  </thead>\n",
              "  <tbody>\n",
              "    <tr>\n",
              "      <th>2000-01-01</th>\n",
              "      <td>2.060818</td>\n",
              "      <td>0.007963</td>\n",
              "      <td>1.019850</td>\n",
              "      <td>-0.866361</td>\n",
              "    </tr>\n",
              "    <tr>\n",
              "      <th>2000-01-02</th>\n",
              "      <td>1.734417</td>\n",
              "      <td>-0.887972</td>\n",
              "      <td>-0.031546</td>\n",
              "      <td>0.580169</td>\n",
              "    </tr>\n",
              "    <tr>\n",
              "      <th>2000-01-03</th>\n",
              "      <td>0.478056</td>\n",
              "      <td>0.936765</td>\n",
              "      <td>0.688646</td>\n",
              "      <td>-0.534753</td>\n",
              "    </tr>\n",
              "    <tr>\n",
              "      <th>2000-01-04</th>\n",
              "      <td>0.622878</td>\n",
              "      <td>2.551213</td>\n",
              "      <td>1.231311</td>\n",
              "      <td>-0.880199</td>\n",
              "    </tr>\n",
              "    <tr>\n",
              "      <th>2000-01-05</th>\n",
              "      <td>-1.132253</td>\n",
              "      <td>3.596819</td>\n",
              "      <td>2.603739</td>\n",
              "      <td>-3.268438</td>\n",
              "    </tr>\n",
              "  </tbody>\n",
              "</table>\n",
              "</div>"
            ],
            "text/plain": [
              "                   A         B         C         D\n",
              "2000-01-01  2.060818  0.007963  1.019850 -0.866361\n",
              "2000-01-02  1.734417 -0.887972 -0.031546  0.580169\n",
              "2000-01-03  0.478056  0.936765  0.688646 -0.534753\n",
              "2000-01-04  0.622878  2.551213  1.231311 -0.880199\n",
              "2000-01-05 -1.132253  3.596819  2.603739 -3.268438"
            ]
          },
          "metadata": {
            "tags": []
          },
          "execution_count": 100
        }
      ]
    },
    {
      "cell_type": "code",
      "metadata": {
        "id": "PIQCxu8U-vH3",
        "colab_type": "code",
        "colab": {
          "base_uri": "https://localhost:8080/",
          "height": 277
        },
        "outputId": "787959e7-9a7e-4eab-ef52-67d095ec4e40"
      },
      "source": [
        "df4.plot()\n",
        "plt.show()"
      ],
      "execution_count": null,
      "outputs": [
        {
          "output_type": "display_data",
          "data": {
            "image/png": "[encoded data removed]",
            "text/plain": [
              "<Figure size 432x288 with 1 Axes>"
            ]
          },
          "metadata": {
            "tags": [],
            "needs_background": "light"
          }
        }
      ]
    }
  ]
}